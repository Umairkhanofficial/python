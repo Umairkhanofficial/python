{
 "cells": [
  {
   "cell_type": "markdown",
   "metadata": {},
   "source": [
    "# LOOP & Input\n",
    "* while\n",
    "* for\n",
    "* control\n",
    "    * break\n",
    "    * continue\n",
    "    * pass\n",
    "* input with input function\n",
    "* input from console\n",
    "# loop working on iterative data types\n",
    "* list\n",
    "* dictonary\n",
    "* tuple\n",
    "* string"
   ]
  },
  {
   "cell_type": "code",
   "execution_count": 3,
   "metadata": {},
   "outputs": [
    {
     "name": "stdout",
     "output_type": "stream",
     "text": [
      "[1, 2, 3, 4, 5, 6]\n"
     ]
    }
   ],
   "source": [
    "\n",
    "l1 :list[int] = [1,2,3,4,5,6]\n",
    "print(l1)"
   ]
  },
  {
   "cell_type": "code",
   "execution_count": 4,
   "metadata": {},
   "outputs": [
    {
     "name": "stdout",
     "output_type": "stream",
     "text": [
      "1\n",
      "2\n",
      "3\n",
      "4\n",
      "5\n",
      "6\n"
     ]
    }
   ],
   "source": [
    "\n",
    "l1 :list[int] = [1,2,3,4,5,6]\n",
    "for i in l1:\n",
    "    print(i)"
   ]
  },
  {
   "cell_type": "code",
   "execution_count": 5,
   "metadata": {},
   "outputs": [
    {
     "name": "stdout",
     "output_type": "stream",
     "text": [
      "current number:1\n",
      "current number:2\n",
      "current number:3\n",
      "current number:4\n",
      "current number:5\n",
      "current number:6\n"
     ]
    }
   ],
   "source": [
    "\n",
    "l1 :list[int] = [1,2,3,4,5,6]\n",
    "for i in l1:\n",
    "    print(f\"current number:{i}\")"
   ]
  },
  {
   "cell_type": "code",
   "execution_count": 6,
   "metadata": {},
   "outputs": [
    {
     "name": "stdout",
     "output_type": "stream",
     "text": [
      "current character:p\n",
      "current character:a\n",
      "current character:k\n",
      "current character:i\n",
      "current character:s\n",
      "current character:t\n",
      "current character:a\n",
      "current character:n\n"
     ]
    }
   ],
   "source": [
    "l1: str = \"pakistan\"\n",
    "\n",
    "for c in l1:\n",
    "    print(f\"current character:{c}\")"
   ]
  },
  {
   "cell_type": "code",
   "execution_count": 10,
   "metadata": {},
   "outputs": [
    {
     "name": "stdout",
     "output_type": "stream",
     "text": [
      "current key: fname and value is umiar \n",
      "current key: lastname and value is khan \n",
      "current key: age and value is 26 \n"
     ]
    }
   ],
   "source": [
    "l1 : dict[str,str] = {\"fname\":\"umiar\",\n",
    "                      \"lastname\":\"khan\",\n",
    "                      \"age\":\"26\"}\n",
    "for d in l1:\n",
    "    print(f\"current key: {d} and value is {l1[d]} \")"
   ]
  },
  {
   "cell_type": "code",
   "execution_count": 11,
   "metadata": {},
   "outputs": [
    {
     "name": "stdout",
     "output_type": "stream",
     "text": [
      "1\n",
      "2\n",
      "3\n",
      "4\n",
      "5\n"
     ]
    }
   ],
   "source": [
    "l1 : list[set[int]] = list({1,2,3,4,5,1,1,1})\n",
    "for k in l1:\n",
    "    print(k)"
   ]
  },
  {
   "cell_type": "markdown",
   "metadata": {},
   "source": [
    "# input from user\n",
    "* input function\n",
    "    * default type = string\n",
    "* sys.argv (for console input in abc.py file)\n",
    "    * default type object"
   ]
  },
  {
   "cell_type": "code",
   "execution_count": 15,
   "metadata": {},
   "outputs": [
    {
     "name": "stdout",
     "output_type": "stream",
     "text": [
      "<class 'str'>\n",
      "welcome dear user :uk\n"
     ]
    }
   ],
   "source": [
    "name : str = input(\"Enter your name\")\n",
    "print(type(name))\n",
    "print(f\"welcome dear user :{name}\")"
   ]
  },
  {
   "cell_type": "code",
   "execution_count": 16,
   "metadata": {},
   "outputs": [
    {
     "name": "stdout",
     "output_type": "stream",
     "text": [
      "line 1\n",
      "line 2\n",
      "['c:\\\\Users\\\\UK\\\\anaconda3\\\\envs\\\\python12\\\\Lib\\\\site-packages\\\\ipykernel_launcher.py', '--ip=127.0.0.1', '--stdin=9011', '--control=9009', '--hb=9008', '--Session.signature_scheme=\"hmac-sha256\"', '--Session.key=b\"d069f446-7504-4f8b-b910-19d184b2cf70\"', '--shell=9010', '--transport=\"tcp\"', '--iopub=9012', '--f=c:\\\\Users\\\\UK\\\\AppData\\\\Roaming\\\\jupyter\\\\runtime\\\\kernel-v2-9800gkbzYDmlLHzV.json']\n"
     ]
    }
   ],
   "source": [
    "#sys.argv taking input from console terminal after the file name\n",
    "import sys\n",
    "print(\"line 1\")\n",
    "print(\"line 2\")\n",
    "\n",
    "print(sys.argv)"
   ]
  },
  {
   "cell_type": "code",
   "execution_count": 21,
   "metadata": {},
   "outputs": [
    {
     "name": "stdout",
     "output_type": "stream",
     "text": [
      "hello mrumiar S/o Sadiq\n",
      "hello mrtalha S/o Sadiq\n",
      "hello mrzubair S/o Sadiq\n"
     ]
    }
   ],
   "source": [
    "first_name : list[str] = [\"umiar\",\"talha\",\"zubair\"]\n",
    "last_name : list [str] = [\"Sadiq\",\"Sadiq\",\"Sadiq\"]\n",
    "age :list[int] = [26,20,32]\n",
    "\n",
    "list(zip(first_name,last_name,age))\n",
    "\n",
    "for fn,lastnm,ag in zip(first_name,last_name,age):\n",
    "    print(f\"hello mr{fn} S/o {lastnm}\")"
   ]
  },
  {
   "cell_type": "markdown",
   "metadata": {},
   "source": [
    "# while loop\n",
    "```\n",
    "while logic: #true/false\n",
    "loop body\n",
    "```"
   ]
  },
  {
   "cell_type": "code",
   "execution_count": 22,
   "metadata": {},
   "outputs": [
    {
     "name": "stdout",
     "output_type": "stream",
     "text": [
      "enter the quote or stop\n",
      "enter the quote or stop\n",
      "enter the quote or stop\n",
      "enter the quote or stop\n"
     ]
    },
    {
     "data": {
      "text/plain": [
       "[{'name': 'umair', 'education': 'bscs'},\n",
       " {'name': 'talha', 'education': 'bscs'},\n",
       " {'name': 'zubair', 'education': 'bsit'}]"
      ]
     },
     "metadata": {},
     "output_type": "display_data"
    }
   ],
   "source": [
    "l1: list[dict[str,str]] = []\n",
    "flag : bool = True\n",
    "while flag:\n",
    " print(\"enter the quote or stop\")\n",
    " name: str = input(\"Enter your name\")\n",
    " education:str = input(\"enter your education\")\n",
    " if name in [\"stop\",\"Stop\",\"clr\",\"exit\"] or  education in [\"stop\",\"Stop\",\"clr\",\"exit\"]:\n",
    "  flag = False\n",
    "  break\n",
    " \n",
    " l1.append({\"name\":name,\n",
    "           \"education\":education,\n",
    "           })\n",
    "display(l1)"
   ]
  }
 ],
 "metadata": {
  "kernelspec": {
   "display_name": "python12",
   "language": "python",
   "name": "python3"
  },
  "language_info": {
   "codemirror_mode": {
    "name": "ipython",
    "version": 3
   },
   "file_extension": ".py",
   "mimetype": "text/x-python",
   "name": "python",
   "nbconvert_exporter": "python",
   "pygments_lexer": "ipython3",
   "version": "3.12.0"
  }
 },
 "nbformat": 4,
 "nbformat_minor": 2
}
