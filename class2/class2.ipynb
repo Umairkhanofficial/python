{
 "cells": [
  {
   "cell_type": "markdown",
   "metadata": {},
   "source": [
    ".format method for concat"
   ]
  },
  {
   "cell_type": "code",
   "execution_count": 4,
   "metadata": {},
   "outputs": [
    {
     "name": "stdout",
     "output_type": "stream",
     "text": [
      "Piaic Student Card \n",
      "Student Name: Umair khan \n",
      "age25\n",
      " \n",
      "piaic student card\n",
      "student name: Umair khan \n",
      "full name : Muhammad Sadiq\n",
      "education : Bscs\n",
      "student age:  25\n",
      "\n"
     ]
    }
   ],
   "source": [
    "name:str = \"Umair khan \"\n",
    "fname:str = \"Muhammad Sadiq\"\n",
    "education:str = \"Bscs\"\n",
    "age : int = 25\n",
    "\n",
    "card : str = \"Piaic Student Card \\nStudent Name: \" + name  +  \"\\nage\" + str(age)\n",
    "\n",
    "print(card)\n",
    "\n",
    "card2 : str = \"\"\" \n",
    "piaic student card\n",
    "student name: {}\n",
    "full name : {}\n",
    "education : {}\n",
    "student age:  {}\n",
    "\"\"\".format(name,fname,education,age)\n",
    "print(card2)"
   ]
  },
  {
   "cell_type": "markdown",
   "metadata": {},
   "source": [
    "F String method"
   ]
  },
  {
   "cell_type": "code",
   "execution_count": 3,
   "metadata": {},
   "outputs": [
    {
     "name": "stdout",
     "output_type": "stream",
     "text": [
      " \n",
      "piaic student card\n",
      "student name: Umair khan \n",
      "full name : Muhammad Sadiq\n",
      "education : Bscs\n",
      "student age:  25\n",
      "\n"
     ]
    }
   ],
   "source": [
    "from math import e\n",
    "\n",
    "\n",
    "name:str = \"Umair khan \"\n",
    "fname:str = \"Muhammad Sadiq\"\n",
    "education:str = \"Bscs\"\n",
    "age : int = 25\n",
    "# dwn line difficult to concat\n",
    "card : str = \"Piaic Student Card \\nStudent Name: \" + name  +  \"\\nage\" + str(age)\n",
    "\n",
    "\n",
    "\n",
    "card2 : str = f\"\"\" \n",
    "piaic student card\n",
    "student name: {name}\n",
    "full name : {fname}\n",
    "education : {education}\n",
    "student age:  {age}\n",
    "\"\"\"\n",
    "print(card2)"
   ]
  },
  {
   "cell_type": "markdown",
   "metadata": {},
   "source": [
    ".format with the refrnce indexing"
   ]
  },
  {
   "cell_type": "code",
   "execution_count": null,
   "metadata": {},
   "outputs": [],
   "source": [
    "name:str = \"Umair khan \"\n",
    "fname:str = \"Muhammad Sadiq\"\n",
    "education:str = \"Bscs\"\n",
    "age : int = 25\n",
    "card2 : str = \"\"\" \n",
    "piaic student card\n",
    "student name: {a}\n",
    "full name : {b}\n",
    "education : {c}\n",
    "student age:  {d}\n",
    "\"\"\".format(a = name,b =fname ,c = education, d= age)\n",
    "print(card2)"
   ]
  },
  {
   "cell_type": "markdown",
   "metadata": {},
   "source": [
    "break line \\"
   ]
  },
  {
   "cell_type": "code",
   "execution_count": 2,
   "metadata": {},
   "outputs": [
    {
     "name": "stdout",
     "output_type": "stream",
     "text": [
      "6\n"
     ]
    }
   ],
   "source": [
    "\n",
    "print(3 + \\\n",
    "      2 + \\\n",
    "        1)"
   ]
  }
 ],
 "metadata": {
  "kernelspec": {
   "display_name": "python12",
   "language": "python",
   "name": "python3"
  },
  "language_info": {
   "codemirror_mode": {
    "name": "ipython",
    "version": 3
   },
   "file_extension": ".py",
   "mimetype": "text/x-python",
   "name": "python",
   "nbconvert_exporter": "python",
   "pygments_lexer": "ipython3",
   "version": "3.12.0"
  }
 },
 "nbformat": 4,
 "nbformat_minor": 2
}
