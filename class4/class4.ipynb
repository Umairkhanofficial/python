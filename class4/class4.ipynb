{
 "cells": [
  {
   "cell_type": "markdown",
   "metadata": {},
   "source": [
    "# list\n",
    "*Dynamic length\n",
    "*hetrogenous data types multiple\n",
    "*index\n",
    " positive 0 to length\n",
    " negivt -1 to length in -\n",
    "* slicing\n",
    "    *start : int = include\n",
    "    *end : int = n-1\n",
    "    *step : int = sequnce"
   ]
  },
  {
   "cell_type": "code",
   "execution_count": 18,
   "metadata": {},
   "outputs": [
    {
     "data": {
      "text/plain": [
       "['append',\n",
       " 'clear',\n",
       " 'copy',\n",
       " 'count',\n",
       " 'extend',\n",
       " 'index',\n",
       " 'insert',\n",
       " 'pop',\n",
       " 'remove',\n",
       " 'reverse',\n",
       " 'sort']"
      ]
     },
     "execution_count": 18,
     "metadata": {},
     "output_type": "execute_result"
    }
   ],
   "source": [
    "[i for i in dir(list) if\"__\" not in i]\n",
    "#all list methods functions"
   ]
  },
  {
   "cell_type": "code",
   "execution_count": 3,
   "metadata": {},
   "outputs": [
    {
     "name": "stdout",
     "output_type": "stream",
     "text": [
      "umair\n",
      "umer\n"
     ]
    }
   ],
   "source": [
    "# =>       0     1       2         indexing left to right\n",
    "names = [\"Ali\",\"umer\",\"umair\"]\n",
    "# <=      -3     -2      -1            ryt to lft\\\n",
    "print(names[2])\n",
    "print(names[-2])"
   ]
  },
  {
   "cell_type": "code",
   "execution_count": 3,
   "metadata": {},
   "outputs": [
    {
     "name": "stdout",
     "output_type": "stream",
     "text": [
      "<class 'list'>\n",
      "<class 'str'>\n",
      "founder of ai UMAIR\n"
     ]
    }
   ],
   "source": [
    "from typing import Any\n",
    "names: list [Any] = [\"Ali\",\"umer\",\"umair\", 4]\n",
    "\n",
    "print(type(names))\n",
    "print(type(names[1]))\n",
    "print(f\"founder of ai {names[2].upper()}\")"
   ]
  },
  {
   "cell_type": "markdown",
   "metadata": {},
   "source": [
    "*used list function to iterate each charctr of string in seprate index"
   ]
  },
  {
   "cell_type": "code",
   "execution_count": 23,
   "metadata": {},
   "outputs": [
    {
     "name": "stdout",
     "output_type": "stream",
     "text": [
      "['a', 'b', 'c', 'd', 'e', 'f', 'g', 'h', 'i', 'j', 'k', 'l', 'm', 'n', 'o', 'p', 'q', 'r', 's', 't', 'u', 'v', 'w', 'x', 'y', 'z']\n"
     ]
    }
   ],
   "source": [
    "characters: list[str] = list(\"abcdefghijklmnopqrstuvwxyz\")\n",
    "print(characters)"
   ]
  },
  {
   "cell_type": "markdown",
   "metadata": {},
   "source": [
    "slicing "
   ]
  },
  {
   "cell_type": "code",
   "execution_count": 42,
   "metadata": {},
   "outputs": [
    {
     "name": "stdout",
     "output_type": "stream",
     "text": [
      "['a', 'b']\n",
      "['a', 'b']\n",
      "['a', 'c', 'e', 'g', 'i', 'k']\n",
      "['z', 'y', 'x', 'w']\n"
     ]
    }
   ],
   "source": [
    "\n",
    "characters: list[str] =['a', 'b', 'c', 'd', 'e', 'f', 'g', 'h', 'i', 'j', 'k', 'l', 'm', 'n', 'o', 'p', 'q', 'r', 's', 't', 'u', 'v', 'w', 'x', 'y', 'z']\n",
    "print(characters[0:2]) #0 = include : index 2-1\n",
    "print(characters[:2]) #not pas any start\n",
    "print(characters[0:11:2]) # :2step taking jump of 2 from the currnt index which is 0 now and it willl run till 11-1 indx\n",
    "print(characters[-1:-5:-1])"
   ]
  },
  {
   "cell_type": "markdown",
   "metadata": {},
   "source": [
    "#list methods\n"
   ]
  },
  {
   "cell_type": "code",
   "execution_count": 8,
   "metadata": {},
   "outputs": [
    {
     "name": "stdout",
     "output_type": "stream",
     "text": [
      "['Qasim', 'Umair', 'uk', 20, False]\n",
      "['Qasim', 'Shakoor', 'uk', 20, False]\n",
      "['Qasim', 'uk', 20, False]\n"
     ]
    }
   ],
   "source": [
    "from typing import Any\n",
    "names: list[Any] = [\"Qasim\",\"Umair\",\"uk\" ,20,False]\n",
    "print(names)\n",
    "names[1] = \"Shakoor\" # python is mutable or editable\n",
    "print(names)\n",
    "# delete index with del keyword\n",
    "\n",
    "del names [1]\n",
    "print(names)"
   ]
  },
  {
   "cell_type": "markdown",
   "metadata": {},
   "source": [
    "#help\n",
    "*help(object)\n",
    "*object?\n",
    "*object??\n",
    "*?object\n",
    "*??object"
   ]
  },
  {
   "cell_type": "code",
   "execution_count": 12,
   "metadata": {},
   "outputs": [
    {
     "name": "stdout",
     "output_type": "stream",
     "text": [
      "False\n"
     ]
    }
   ],
   "source": [
    "#pop function will delete the value from the lst index and save in the variable\n",
    "names: list[Any] = [\"Qasim\",\"Umair\",\"uk\" ,20,False]\n",
    "a :str = names.pop() #pop return method\n",
    "print(a)"
   ]
  },
  {
   "cell_type": "markdown",
   "metadata": {},
   "source": [
    "#append method add value in the last"
   ]
  },
  {
   "cell_type": "code",
   "execution_count": 14,
   "metadata": {},
   "outputs": [
    {
     "name": "stdout",
     "output_type": "stream",
     "text": [
      "['Apple', 'peach', 'cherry']\n"
     ]
    },
    {
     "data": {
      "text/plain": [
       "'cherry'"
      ]
     },
     "execution_count": 14,
     "metadata": {},
     "output_type": "execute_result"
    }
   ],
   "source": [
    "fruits: list [str] = []\n",
    "fruits.append(\"Apple\")\n",
    "fruits.append(\"peach\")\n",
    "fruits.append(\"cherry\")\n",
    "print(fruits)\n",
    "fruits[2]"
   ]
  },
  {
   "cell_type": "markdown",
   "metadata": {},
   "source": [
    "insert method used to add elemnt at particular position"
   ]
  },
  {
   "cell_type": "code",
   "execution_count": 15,
   "metadata": {},
   "outputs": [
    {
     "name": "stdout",
     "output_type": "stream",
     "text": [
      "['apple', 'kiwi', 'peach', 'banana']\n"
     ]
    }
   ],
   "source": [
    "fruits: list [str] = [\"apple\",\"peach\",\"banana\"]\n",
    "fruits.insert(1,\"kiwi\")\n",
    "print(fruits)"
   ]
  },
  {
   "cell_type": "markdown",
   "metadata": {},
   "source": [
    "clear () methods use for delete only value not variable"
   ]
  },
  {
   "cell_type": "code",
   "execution_count": 17,
   "metadata": {},
   "outputs": [
    {
     "ename": "NameError",
     "evalue": "name 'fruits' is not defined",
     "output_type": "error",
     "traceback": [
      "\u001b[1;31m---------------------------------------------------------------------------\u001b[0m",
      "\u001b[1;31mNameError\u001b[0m                                 Traceback (most recent call last)",
      "\u001b[1;32md:\\python\\class4\\class4.ipynb Cell 17\u001b[0m line \u001b[0;36m4\n\u001b[0;32m      <a href='vscode-notebook-cell:/d%3A/python/class4/class4.ipynb#X26sZmlsZQ%3D%3D?line=1'>2</a>\u001b[0m fruits\u001b[39m.\u001b[39mclear()\n\u001b[0;32m      <a href='vscode-notebook-cell:/d%3A/python/class4/class4.ipynb#X26sZmlsZQ%3D%3D?line=2'>3</a>\u001b[0m \u001b[39mdel\u001b[39;00m fruits\n\u001b[1;32m----> <a href='vscode-notebook-cell:/d%3A/python/class4/class4.ipynb#X26sZmlsZQ%3D%3D?line=3'>4</a>\u001b[0m \u001b[39mprint\u001b[39m(fruits)\n",
      "\u001b[1;31mNameError\u001b[0m: name 'fruits' is not defined"
     ]
    }
   ],
   "source": [
    "fruits: list [str] = [\"apple\",\"peach\",\"banana\"]\n",
    "fruits.clear()\n",
    "del fruits # del delete the whole with variable\n",
    "print(fruits)"
   ]
  },
  {
   "cell_type": "markdown",
   "metadata": {},
   "source": [
    ".copy method for deep copy"
   ]
  },
  {
   "cell_type": "code",
   "execution_count": 24,
   "metadata": {},
   "outputs": [
    {
     "name": "stdout",
     "output_type": "stream",
     "text": [
      "['a', 'b', 'c', 'd']\n",
      "['a', 'b', 'c', 'd']\n",
      "['a', 'paki', 'c', 'd']\n",
      "['a', 'b', 'c', 'd']\n",
      "1\n"
     ]
    }
   ],
   "source": [
    "a: list [str]= [\"a\",\"b\",\"c\",\"d\"]\n",
    "# b = a shallow copy\n",
    "b = a.copy() #deep copy\n",
    "print(a)\n",
    "print(b)\n",
    "a[1] = \"paki\"\n",
    "print(a)\n",
    "print(b)\n",
    "#count method\n",
    "print(a.count(\"c\"))"
   ]
  },
  {
   "cell_type": "markdown",
   "metadata": {},
   "source": [
    "#extend"
   ]
  },
  {
   "cell_type": "code",
   "execution_count": 29,
   "metadata": {},
   "outputs": [
    {
     "data": {
      "text/plain": [
       "['umair', 'uk', 'khan', ['Zia KHAN', 'talha'], 'Zia KHAN', 'talha']"
      ]
     },
     "execution_count": 29,
     "metadata": {},
     "output_type": "execute_result"
    }
   ],
   "source": [
    "names: list [str] = [\"umair\", \"uk\",\"khan\"]\n",
    "new_members: list [str] = [\"Zia KHAN\",\"talha\"]\n",
    "names.append(new_members)\n",
    "names"
   ]
  },
  {
   "cell_type": "code",
   "execution_count": 31,
   "metadata": {},
   "outputs": [
    {
     "data": {
      "text/plain": [
       "['umair', 'uk', 'khan', 'Zia KHAN', 'talha']"
      ]
     },
     "execution_count": 31,
     "metadata": {},
     "output_type": "execute_result"
    }
   ],
   "source": [
    "#extend\n",
    "names: list [str] = [\"umair\", \"uk\",\"khan\"]\n",
    "new_members: list [str] = [\"Zia KHAN\",\"talha\"]\n",
    "names.extend(new_members)\n",
    "names"
   ]
  },
  {
   "cell_type": "markdown",
   "metadata": {},
   "source": [
    "remove with text "
   ]
  },
  {
   "cell_type": "code",
   "execution_count": 32,
   "metadata": {},
   "outputs": [
    {
     "data": {
      "text/plain": [
       "['umair', 'khan']"
      ]
     },
     "execution_count": 32,
     "metadata": {},
     "output_type": "execute_result"
    }
   ],
   "source": [
    "names: list [str] = [\"umair\", \"uk\",\"khan\"]\n",
    "\n",
    "names.remove(\"uk\")\n",
    "names"
   ]
  },
  {
   "cell_type": "markdown",
   "metadata": {},
   "source": [
    "finding index number"
   ]
  },
  {
   "cell_type": "code",
   "execution_count": 35,
   "metadata": {},
   "outputs": [
    {
     "data": {
      "text/plain": [
       "1"
      ]
     },
     "execution_count": 35,
     "metadata": {},
     "output_type": "execute_result"
    }
   ],
   "source": [
    "names: list [str] = [\"umair\",\"uk\",\"khan\"]\n",
    "\n",
    "names.index(\"uk\")\n"
   ]
  }
 ],
 "metadata": {
  "kernelspec": {
   "display_name": "python12",
   "language": "python",
   "name": "python3"
  },
  "language_info": {
   "codemirror_mode": {
    "name": "ipython",
    "version": 3
   },
   "file_extension": ".py",
   "mimetype": "text/x-python",
   "name": "python",
   "nbconvert_exporter": "python",
   "pygments_lexer": "ipython3",
   "version": "3.12.0"
  }
 },
 "nbformat": 4,
 "nbformat_minor": 2
}
