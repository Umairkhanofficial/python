{
 "cells": [
  {
   "cell_type": "markdown",
   "metadata": {},
   "source": [
    "# list\n",
    "*Dynamic length\n",
    "*hetrogenous data types multiple\n",
    "*index\n",
    " positive 0 to length\n",
    " negivt -1 to length in -\n",
    "* slicing\n",
    "    *start : int = include\n",
    "    *end : int = n-1\n",
    "    *step : int = sequnce"
   ]
  },
  {
   "cell_type": "code",
   "execution_count": 3,
   "metadata": {},
   "outputs": [
    {
     "name": "stdout",
     "output_type": "stream",
     "text": [
      "umair\n",
      "umer\n"
     ]
    }
   ],
   "source": [
    "# =>       0     1       2         indexing left to right\n",
    "names = [\"Ali\",\"umer\",\"umair\"]\n",
    "# <=      -3     -2      -1            ryt to lft\\\n",
    "print(names[2])\n",
    "print(names[-2])"
   ]
  },
  {
   "cell_type": "code",
   "execution_count": 22,
   "metadata": {},
   "outputs": [
    {
     "name": "stdout",
     "output_type": "stream",
     "text": [
      "<class 'list'>\n",
      "<class 'str'>\n",
      "founder of ai UMAIR\n"
     ]
    }
   ],
   "source": [
    "from typing import Any\n",
    "names: list [any] = [\"Ali\",\"umer\",\"umair\", 4]\n",
    "\n",
    "print(type(names))\n",
    "print(type(names[1]))\n",
    "print(f\"founder of ai {names[2].upper()}\")"
   ]
  },
  {
   "cell_type": "markdown",
   "metadata": {},
   "source": [
    "*used list function to iterate each charctr of string in seprate index"
   ]
  },
  {
   "cell_type": "code",
   "execution_count": 23,
   "metadata": {},
   "outputs": [
    {
     "name": "stdout",
     "output_type": "stream",
     "text": [
      "['a', 'b', 'c', 'd', 'e', 'f', 'g', 'h', 'i', 'j', 'k', 'l', 'm', 'n', 'o', 'p', 'q', 'r', 's', 't', 'u', 'v', 'w', 'x', 'y', 'z']\n"
     ]
    }
   ],
   "source": [
    "characters: list[str] = list(\"abcdefghijklmnopqrstuvwxyz\")\n",
    "print(characters)"
   ]
  },
  {
   "cell_type": "markdown",
   "metadata": {},
   "source": [
    "slicing "
   ]
  },
  {
   "cell_type": "code",
   "execution_count": 42,
   "metadata": {},
   "outputs": [
    {
     "name": "stdout",
     "output_type": "stream",
     "text": [
      "['a', 'b']\n",
      "['a', 'b']\n",
      "['a', 'c', 'e', 'g', 'i', 'k']\n",
      "['z', 'y', 'x', 'w']\n"
     ]
    }
   ],
   "source": [
    "\n",
    "characters: list[str] =['a', 'b', 'c', 'd', 'e', 'f', 'g', 'h', 'i', 'j', 'k', 'l', 'm', 'n', 'o', 'p', 'q', 'r', 's', 't', 'u', 'v', 'w', 'x', 'y', 'z']\n",
    "print(characters[0:2]) #0 = include : index 2-1\n",
    "print(characters[:2]) #not pas any start\n",
    "print(characters[0:11:2]) # :2step taking jump of 2 from the currnt index which is 0 now and it willl run till 11-1 indx\n",
    "print(characters[-1:-5:-1])"
   ]
  }
 ],
 "metadata": {
  "kernelspec": {
   "display_name": "python12",
   "language": "python",
   "name": "python3"
  },
  "language_info": {
   "codemirror_mode": {
    "name": "ipython",
    "version": 3
   },
   "file_extension": ".py",
   "mimetype": "text/x-python",
   "name": "python",
   "nbconvert_exporter": "python",
   "pygments_lexer": "ipython3",
   "version": "3.12.0"
  }
 },
 "nbformat": 4,
 "nbformat_minor": 2
}
