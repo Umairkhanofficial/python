{
 "cells": [
  {
   "cell_type": "code",
   "execution_count": 1,
   "metadata": {},
   "outputs": [
    {
     "name": "stdout",
     "output_type": "stream",
     "text": [
      "UK\n",
      "tk\n",
      "nk\n"
     ]
    }
   ],
   "source": [
    "names:list [str] = [\"UK\",\"tk\",\"nk\"]\n",
    "for i in names:\n",
    "    print(i)\n"
   ]
  },
  {
   "cell_type": "code",
   "execution_count": 10,
   "metadata": {},
   "outputs": [
    {
     "name": "stdout",
     "output_type": "stream",
     "text": [
      "Sir Zia\n",
      "Muhammad Qasim\n",
      "DR Noman\n"
     ]
    }
   ],
   "source": [
    "names = ['Sir Zia', \"Muhammad Qasim\", \"DR Noman\"]\n",
    "\n",
    "i:int = 0 # counter = 0\n",
    "\n",
    "while i < len(names): # names length =3\n",
    "    print(names[i])\n",
    "    i += 1\n",
    "    \n"
   ]
  },
  {
   "cell_type": "markdown",
   "metadata": {},
   "source": [
    "python for lop"
   ]
  },
  {
   "cell_type": "code",
   "execution_count": 24,
   "metadata": {},
   "outputs": [
    {
     "name": "stdout",
     "output_type": "stream",
     "text": [
      "welcome sir Sir Zia\n",
      "hello world\n",
      "welcome sir Muhammad Qasim\n",
      "hello world\n",
      "welcome sir Dr Noman\n",
      "hello world\n",
      "hello pak\n",
      "\n"
     ]
    }
   ],
   "source": [
    "names = ['Sir Zia', \"Muhammad Qasim\", \"DR Noman\"]\n",
    "\n",
    "for name in names[0:3]: # first start index 2nd the end third is step\n",
    "    print(f\"welcome sir {name.title()}\")\n",
    "    print(\"hello world\") #that line also the part of forlop indentation\n",
    "print(\"hello pak\\n\")"
   ]
  },
  {
   "cell_type": "code",
   "execution_count": 2,
   "metadata": {},
   "outputs": [
    {
     "name": "stdout",
     "output_type": "stream",
     "text": [
      "user not found\n"
     ]
    }
   ],
   "source": [
    "data_base:list[tuple[str,str]] = [(\"umair\",\"1122\"),(\"talha\",\"1234\")]\n",
    "u_input:str = input(\"Enter UserName\")\n",
    "p_input:str = input(\"Enter password\")\n",
    "\n",
    "for data in data_base:\n",
    "    id, password = data\n",
    "    if u_input == id and p_input == password:\n",
    "        print(\"User Found Sucessfuly\")\n",
    "        break\n",
    "else:\n",
    "    print(\"user not found\")"
   ]
  },
  {
   "cell_type": "code",
   "execution_count": 5,
   "metadata": {},
   "outputs": [
    {
     "name": "stdout",
     "output_type": "stream",
     "text": [
      "2 x 1 = 2\n",
      "2 x 2 = 4\n",
      "2 x 3 = 6\n",
      "2 x 4 = 8\n",
      "2 x 5 = 10\n",
      "2 x 6 = 12\n",
      "2 x 7 = 14\n",
      "2 x 8 = 16\n",
      "2 x 9 = 18\n",
      "2 x 10 = 20\n"
     ]
    }
   ],
   "source": [
    "for n in range(1,11):   # first starting index   2nd end     3rd one step\n",
    "    print(f\"2 x {n} = {n*2}\")"
   ]
  },
  {
   "cell_type": "markdown",
   "metadata": {},
   "source": [
    "#list comprevensive\n"
   ]
  },
  {
   "cell_type": "code",
   "execution_count": 12,
   "metadata": {},
   "outputs": [
    {
     "data": {
      "text/plain": [
       "[1, 4, 9, 16, 25, 36, 49, 64, 81, 100]"
      ]
     },
     "execution_count": 12,
     "metadata": {},
     "output_type": "execute_result"
    }
   ],
   "source": [
    "[i**2 for i in range(1,11)] #that list comprehnsv body goes before for and within square brckts\n",
    "\n",
    "\n",
    "#for i in range(1,11):\n",
    " #   print(i**2)"
   ]
  },
  {
   "cell_type": "markdown",
   "metadata": {},
   "source": [
    "#max and min function\n"
   ]
  },
  {
   "cell_type": "code",
   "execution_count": 17,
   "metadata": {},
   "outputs": [
    {
     "name": "stdout",
     "output_type": "stream",
     "text": [
      "[1, 4, 9, 16, 25, 36, 49, 64, 81, 100]\n",
      "1\n",
      "100\n",
      "385\n"
     ]
    }
   ],
   "source": [
    "digits:list[int] = [1, 4, 9, 16, 25, 36, 49, 64, 81, 100]\n",
    "print(digits)\n",
    "print(min(digits))\n",
    "print(max(digits))\n",
    "print(sum(digits ))"
   ]
  },
  {
   "cell_type": "code",
   "execution_count": 21,
   "metadata": {},
   "outputs": [
    {
     "name": "stdout",
     "output_type": "stream",
     "text": [
      "['pizza', 'burger', 'coke']\n",
      "['pizza', 'burger', 'coke']\n",
      "['fries', 'burger', 'coke']\n",
      "['pizza', 'burger', 'coke']\n"
     ]
    }
   ],
   "source": [
    "myfood = ['pizza','burger','coke']\n",
    "friend_food = myfood[:] #deep copy\n",
    "\n",
    "print(myfood)\n",
    "print(friend_food)\n",
    "\n",
    "myfood[0] = \"fries\"\n",
    "\n",
    "\n",
    "print(myfood)\n",
    "print(friend_food)"
   ]
  },
  {
   "cell_type": "markdown",
   "metadata": {},
   "source": [
    "#tuple"
   ]
  }
 ],
 "metadata": {
  "kernelspec": {
   "display_name": "python12",
   "language": "python",
   "name": "python3"
  },
  "language_info": {
   "codemirror_mode": {
    "name": "ipython",
    "version": 3
   },
   "file_extension": ".py",
   "mimetype": "text/x-python",
   "name": "python",
   "nbconvert_exporter": "python",
   "pygments_lexer": "ipython3",
   "version": "3.12.0"
  }
 },
 "nbformat": 4,
 "nbformat_minor": 2
}
