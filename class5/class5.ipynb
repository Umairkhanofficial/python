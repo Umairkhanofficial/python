{
 "cells": [
  {
   "cell_type": "code",
   "execution_count": 1,
   "metadata": {},
   "outputs": [
    {
     "name": "stdout",
     "output_type": "stream",
     "text": [
      "UK\n",
      "tk\n",
      "nk\n"
     ]
    }
   ],
   "source": [
    "names:list [str] = [\"UK\",\"tk\",\"nk\"]\n",
    "for i in names:\n",
    "    print(i)\n"
   ]
  },
  {
   "cell_type": "code",
   "execution_count": 10,
   "metadata": {},
   "outputs": [
    {
     "name": "stdout",
     "output_type": "stream",
     "text": [
      "Sir Zia\n",
      "Muhammad Qasim\n",
      "DR Noman\n"
     ]
    }
   ],
   "source": [
    "names = ['Sir Zia', \"Muhammad Qasim\", \"DR Noman\"]\n",
    "\n",
    "i:int = 0 # counter = 0\n",
    "\n",
    "while i < len(names): # names length =3\n",
    "    print(names[i])\n",
    "    i += 1\n",
    "    \n"
   ]
  },
  {
   "cell_type": "markdown",
   "metadata": {},
   "source": [
    "python for lop"
   ]
  },
  {
   "cell_type": "code",
   "execution_count": 24,
   "metadata": {},
   "outputs": [
    {
     "name": "stdout",
     "output_type": "stream",
     "text": [
      "welcome sir Sir Zia\n",
      "hello world\n",
      "welcome sir Muhammad Qasim\n",
      "hello world\n",
      "welcome sir Dr Noman\n",
      "hello world\n",
      "hello pak\n",
      "\n"
     ]
    }
   ],
   "source": [
    "names = ['Sir Zia', \"Muhammad Qasim\", \"DR Noman\"]\n",
    "\n",
    "for name in names[0:3]: # first start index 2nd the end third is step\n",
    "    print(f\"welcome sir {name.title()}\")\n",
    "    print(\"hello world\") #that line also the part of forlop indentation\n",
    "print(\"hello pak\\n\")"
   ]
  },
  {
   "cell_type": "code",
   "execution_count": 2,
   "metadata": {},
   "outputs": [
    {
     "name": "stdout",
     "output_type": "stream",
     "text": [
      "user not found\n"
     ]
    }
   ],
   "source": [
    "data_base:list[tuple[str,str]] = [(\"umair\",\"1122\"),(\"talha\",\"1234\")]\n",
    "u_input:str = input(\"Enter UserName\")\n",
    "p_input:str = input(\"Enter password\")\n",
    "\n",
    "for data in data_base:\n",
    "    id, password = data\n",
    "    if u_input == id and p_input == password:\n",
    "        print(\"User Found Sucessfuly\")\n",
    "        break\n",
    "else:\n",
    "    print(\"user not found\")"
   ]
  },
  {
   "cell_type": "code",
   "execution_count": 4,
   "metadata": {},
   "outputs": [
    {
     "name": "stdout",
     "output_type": "stream",
     "text": [
      "1\n",
      "3\n",
      "5\n",
      "7\n",
      "9\n"
     ]
    }
   ],
   "source": [
    "for n in range(1,11):   # first starting index   2nd end     3rd one step\n",
    "    print(f\"2 x {n} = {n*2}\")"
   ]
  }
 ],
 "metadata": {
  "kernelspec": {
   "display_name": "python12",
   "language": "python",
   "name": "python3"
  },
  "language_info": {
   "codemirror_mode": {
    "name": "ipython",
    "version": 3
   },
   "file_extension": ".py",
   "mimetype": "text/x-python",
   "name": "python",
   "nbconvert_exporter": "python",
   "pygments_lexer": "ipython3",
   "version": "3.12.0"
  }
 },
 "nbformat": 4,
 "nbformat_minor": 2
}
