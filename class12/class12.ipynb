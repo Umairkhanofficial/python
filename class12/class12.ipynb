{
 "cells": [
  {
   "cell_type": "markdown",
   "metadata": {},
   "source": [
    "# Error and file handling\n"
   ]
  },
  {
   "cell_type": "code",
   "execution_count": 1,
   "metadata": {},
   "outputs": [
    {
     "name": "stdout",
     "output_type": "stream",
     "text": [
      "logic1\n",
      "logic2\n",
      "logic3\n",
      "something went wrong\n",
      "logic4\n"
     ]
    }
   ],
   "source": [
    "# immutable int float boolean tuple\n",
    "# mutable list set dictionary values can be chnges appnd etc\n",
    "print(\"logic1\")\n",
    "print(\"logic2\")\n",
    "print(\"logic3\")\n",
    "try:\n",
    "    open(\"abc.txt\")\n",
    "    #print(abc)\n",
    "    #print(5/0)\n",
    "    \n",
    "except (ZeroDivisionError):\n",
    "    print(\"Error Division by Zero\")\n",
    "except NameError:\n",
    "    print(\"Variable not found\")\n",
    "except:\n",
    "    print(\"something went wrong\")\n",
    "print(\"logic4\")\n"
   ]
  },
  {
   "cell_type": "code",
   "execution_count": 13,
   "metadata": {},
   "outputs": [
    {
     "name": "stdout",
     "output_type": "stream",
     "text": [
      "something went wrong \n",
      " division by zero\n"
     ]
    }
   ],
   "source": [
    "#dynamic error handling\n",
    "try:\n",
    "    print(3/0)\n",
    "    print(abc)\n",
    "except Exception as e:\n",
    "    print(f\"something went wrong \\n {e}\")"
   ]
  },
  {
   "cell_type": "code",
   "execution_count": 15,
   "metadata": {},
   "outputs": [
    {
     "ename": "StudentAgeError",
     "evalue": "your age is not eligible",
     "output_type": "error",
     "traceback": [
      "\u001b[1;31m---------------------------------------------------------------------------\u001b[0m",
      "\u001b[1;31mStudentAgeError\u001b[0m                           Traceback (most recent call last)",
      "\u001b[1;32md:\\python\\class12\\class12.ipynb Cell 4\u001b[0m line \u001b[0;36m8\n\u001b[0;32m      <a href='vscode-notebook-cell:/d%3A/python/class12/class12.ipynb#W3sZmlsZQ%3D%3D?line=5'>6</a>\u001b[0m         \u001b[39mself\u001b[39m\u001b[39m.\u001b[39mname \u001b[39m=\u001b[39m name\n\u001b[0;32m      <a href='vscode-notebook-cell:/d%3A/python/class12/class12.ipynb#W3sZmlsZQ%3D%3D?line=6'>7</a>\u001b[0m         \u001b[39mself\u001b[39m\u001b[39m.\u001b[39mage \u001b[39m=\u001b[39m age\n\u001b[1;32m----> <a href='vscode-notebook-cell:/d%3A/python/class12/class12.ipynb#W3sZmlsZQ%3D%3D?line=7'>8</a>\u001b[0m Student1 \u001b[39m=\u001b[39m StudentCard(\u001b[39m15\u001b[39;49m,\u001b[39m\"\u001b[39;49m\u001b[39mUmair\u001b[39;49m\u001b[39m\"\u001b[39;49m,\u001b[39m10\u001b[39;49m)\n\u001b[0;32m      <a href='vscode-notebook-cell:/d%3A/python/class12/class12.ipynb#W3sZmlsZQ%3D%3D?line=8'>9</a>\u001b[0m \u001b[39mprint\u001b[39m(Student1\u001b[39m.\u001b[39mage,Student1\u001b[39m.\u001b[39mname)\n\u001b[0;32m     <a href='vscode-notebook-cell:/d%3A/python/class12/class12.ipynb#W3sZmlsZQ%3D%3D?line=9'>10</a>\u001b[0m \u001b[39mclass\u001b[39;00m \u001b[39mStudentAgeError\u001b[39;00m(\u001b[39mException\u001b[39;00m):\n",
      "\u001b[1;32md:\\python\\class12\\class12.ipynb Cell 4\u001b[0m line \u001b[0;36m4\n\u001b[0;32m      <a href='vscode-notebook-cell:/d%3A/python/class12/class12.ipynb#W3sZmlsZQ%3D%3D?line=1'>2</a>\u001b[0m \u001b[39mdef\u001b[39;00m \u001b[39m__init__\u001b[39m(\u001b[39mself\u001b[39m,roll_num:\u001b[39mint\u001b[39m,name:\u001b[39mstr\u001b[39m,age:\u001b[39mint\u001b[39m) \u001b[39m-\u001b[39m\u001b[39m>\u001b[39m \u001b[39mNone\u001b[39;00m:\n\u001b[0;32m      <a href='vscode-notebook-cell:/d%3A/python/class12/class12.ipynb#W3sZmlsZQ%3D%3D?line=2'>3</a>\u001b[0m     \u001b[39mif\u001b[39;00m age \u001b[39m<\u001b[39m \u001b[39m18\u001b[39m \u001b[39mor\u001b[39;00m age \u001b[39m>\u001b[39m \u001b[39m60\u001b[39m:\n\u001b[1;32m----> <a href='vscode-notebook-cell:/d%3A/python/class12/class12.ipynb#W3sZmlsZQ%3D%3D?line=3'>4</a>\u001b[0m         \u001b[39mraise\u001b[39;00m StudentAgeError(\u001b[39m\"\u001b[39m\u001b[39myour age is not eligible\u001b[39m\u001b[39m\"\u001b[39m)\n\u001b[0;32m      <a href='vscode-notebook-cell:/d%3A/python/class12/class12.ipynb#W3sZmlsZQ%3D%3D?line=4'>5</a>\u001b[0m     \u001b[39mself\u001b[39m\u001b[39m.\u001b[39mrol_num \u001b[39m=\u001b[39m roll_num\n\u001b[0;32m      <a href='vscode-notebook-cell:/d%3A/python/class12/class12.ipynb#W3sZmlsZQ%3D%3D?line=5'>6</a>\u001b[0m     \u001b[39mself\u001b[39m\u001b[39m.\u001b[39mname \u001b[39m=\u001b[39m name\n",
      "\u001b[1;31mStudentAgeError\u001b[0m: your age is not eligible"
     ]
    }
   ],
   "source": [
    "class StudentCard():\n",
    "    def __init__(self,roll_num:int,name:str,age:int) -> None:\n",
    "        if age < 18 or age > 60:\n",
    "            raise StudentAgeError(\"your age is not eligible\")\n",
    "        self.rol_num = roll_num\n",
    "        self.name = name\n",
    "        self.age = age\n",
    "Student1 = StudentCard(15,\"Umair\",10)\n",
    "print(Student1.age,Student1.name)\n",
    "\n",
    "class StudentAgeError(Exception):\n",
    "    pass"
   ]
  },
  {
   "cell_type": "code",
   "execution_count": 31,
   "metadata": {},
   "outputs": [
    {
     "ename": "invalidpass",
     "evalue": "id and pass is incorrect",
     "output_type": "error",
     "traceback": [
      "\u001b[1;31m---------------------------------------------------------------------------\u001b[0m",
      "\u001b[1;31minvalidpass\u001b[0m                               Traceback (most recent call last)",
      "\u001b[1;32md:\\python\\class12\\class12.ipynb Cell 5\u001b[0m line \u001b[0;36m1\n\u001b[0;32m      <a href='vscode-notebook-cell:/d%3A/python/class12/class12.ipynb#W4sZmlsZQ%3D%3D?line=7'>8</a>\u001b[0m         \u001b[39mself\u001b[39m\u001b[39m.\u001b[39mpassword \u001b[39m=\u001b[39m password\n\u001b[0;32m      <a href='vscode-notebook-cell:/d%3A/python/class12/class12.ipynb#W4sZmlsZQ%3D%3D?line=8'>9</a>\u001b[0m         \u001b[39mself\u001b[39m\u001b[39m.\u001b[39mbalance \u001b[39m=\u001b[39m balance\n\u001b[1;32m---> <a href='vscode-notebook-cell:/d%3A/python/class12/class12.ipynb#W4sZmlsZQ%3D%3D?line=9'>10</a>\u001b[0m newcard \u001b[39m=\u001b[39m creditcard(\u001b[39m15\u001b[39;49m,\u001b[39m\"\u001b[39;49m\u001b[39mfbc\u001b[39;49m\u001b[39m\"\u001b[39;49m,\u001b[39m300\u001b[39;49m)\n\u001b[0;32m     <a href='vscode-notebook-cell:/d%3A/python/class12/class12.ipynb#W4sZmlsZQ%3D%3D?line=10'>11</a>\u001b[0m \u001b[39mprint\u001b[39m(\u001b[39mf\u001b[39m\u001b[39m\"\u001b[39m\u001b[39mbalance\u001b[39m\u001b[39m{\u001b[39;00mnewcard\u001b[39m.\u001b[39mbalance\u001b[39m}\u001b[39;00m\u001b[39m\"\u001b[39m)\n\u001b[0;32m     <a href='vscode-notebook-cell:/d%3A/python/class12/class12.ipynb#W4sZmlsZQ%3D%3D?line=11'>12</a>\u001b[0m \u001b[39mclass\u001b[39;00m \u001b[39minvalidpass\u001b[39;00m(\u001b[39mException\u001b[39;00m):\n",
      "\u001b[1;32md:\\python\\class12\\class12.ipynb Cell 5\u001b[0m line \u001b[0;36m6\n\u001b[0;32m      <a href='vscode-notebook-cell:/d%3A/python/class12/class12.ipynb#W4sZmlsZQ%3D%3D?line=3'>4</a>\u001b[0m \u001b[39mdef\u001b[39;00m \u001b[39m__init__\u001b[39m(\u001b[39mself\u001b[39m,\u001b[39mid\u001b[39m:\u001b[39mint\u001b[39m,password:passtype,balance:\u001b[39mint\u001b[39m) \u001b[39m-\u001b[39m\u001b[39m>\u001b[39m \u001b[39mNone\u001b[39;00m:\n\u001b[0;32m      <a href='vscode-notebook-cell:/d%3A/python/class12/class12.ipynb#W4sZmlsZQ%3D%3D?line=4'>5</a>\u001b[0m     \u001b[39mif\u001b[39;00m \u001b[39mid\u001b[39m \u001b[39m==\u001b[39m \u001b[39m15\u001b[39m \u001b[39mor\u001b[39;00m \u001b[39misinstance\u001b[39m(password,\u001b[39mstr\u001b[39m) :\n\u001b[1;32m----> <a href='vscode-notebook-cell:/d%3A/python/class12/class12.ipynb#W4sZmlsZQ%3D%3D?line=5'>6</a>\u001b[0m         \u001b[39mraise\u001b[39;00m invalidpass(\u001b[39m\"\u001b[39m\u001b[39mid and pass is incorrect\u001b[39m\u001b[39m\"\u001b[39m)\n\u001b[0;32m      <a href='vscode-notebook-cell:/d%3A/python/class12/class12.ipynb#W4sZmlsZQ%3D%3D?line=6'>7</a>\u001b[0m     \u001b[39mself\u001b[39m\u001b[39m.\u001b[39mid \u001b[39m=\u001b[39m \u001b[39mid\u001b[39m\n\u001b[0;32m      <a href='vscode-notebook-cell:/d%3A/python/class12/class12.ipynb#W4sZmlsZQ%3D%3D?line=7'>8</a>\u001b[0m     \u001b[39mself\u001b[39m\u001b[39m.\u001b[39mpassword \u001b[39m=\u001b[39m password\n",
      "\u001b[1;31minvalidpass\u001b[0m: id and pass is incorrect"
     ]
    }
   ],
   "source": [
    "from typing import Union\n",
    "passtype = Union[int,str]\n",
    "class creditcard():\n",
    "    def __init__(self,id:int,password:passtype,balance:int) -> None:\n",
    "        if id == 15 or isinstance(password,str) :\n",
    "            raise invalidpass(\"id and pass is incorrect\")\n",
    "        self.id = id\n",
    "        self.password = password\n",
    "        self.balance = balance\n",
    "newcard = creditcard(15,\"fbc\",300)\n",
    "print(f\"balance{newcard.balance}\")\n",
    "class invalidpass(Exception):\n",
    "    pass"
   ]
  },
  {
   "cell_type": "code",
   "execution_count": 36,
   "metadata": {},
   "outputs": [
    {
     "ename": "invalidpass",
     "evalue": "id and pass is incorrect",
     "output_type": "error",
     "traceback": [
      "\u001b[1;31m---------------------------------------------------------------------------\u001b[0m",
      "\u001b[1;31minvalidpass\u001b[0m                               Traceback (most recent call last)",
      "\u001b[1;32md:\\python\\class12\\class12.ipynb Cell 6\u001b[0m line \u001b[0;36m1\n\u001b[0;32m      <a href='vscode-notebook-cell:/d%3A/python/class12/class12.ipynb#W5sZmlsZQ%3D%3D?line=7'>8</a>\u001b[0m         \u001b[39mself\u001b[39m\u001b[39m.\u001b[39mpassword \u001b[39m=\u001b[39m password\n\u001b[0;32m      <a href='vscode-notebook-cell:/d%3A/python/class12/class12.ipynb#W5sZmlsZQ%3D%3D?line=8'>9</a>\u001b[0m         \u001b[39mself\u001b[39m\u001b[39m.\u001b[39mbalance \u001b[39m=\u001b[39m balance\n\u001b[1;32m---> <a href='vscode-notebook-cell:/d%3A/python/class12/class12.ipynb#W5sZmlsZQ%3D%3D?line=9'>10</a>\u001b[0m newcard \u001b[39m=\u001b[39m creditcard(\u001b[39m13\u001b[39;49m,\u001b[39m\"\u001b[39;49m\u001b[39mfbc\u001b[39;49m\u001b[39m\"\u001b[39;49m,\u001b[39m300\u001b[39;49m)\n\u001b[0;32m     <a href='vscode-notebook-cell:/d%3A/python/class12/class12.ipynb#W5sZmlsZQ%3D%3D?line=10'>11</a>\u001b[0m \u001b[39mprint\u001b[39m(\u001b[39mf\u001b[39m\u001b[39m\"\u001b[39m\u001b[39mbalance\u001b[39m\u001b[39m{\u001b[39;00mnewcard\u001b[39m.\u001b[39mbalance\u001b[39m}\u001b[39;00m\u001b[39m\"\u001b[39m)\n\u001b[0;32m     <a href='vscode-notebook-cell:/d%3A/python/class12/class12.ipynb#W5sZmlsZQ%3D%3D?line=11'>12</a>\u001b[0m \u001b[39mclass\u001b[39;00m \u001b[39minvalidpass\u001b[39;00m(\u001b[39mException\u001b[39;00m):\n",
      "\u001b[1;32md:\\python\\class12\\class12.ipynb Cell 6\u001b[0m line \u001b[0;36m6\n\u001b[0;32m      <a href='vscode-notebook-cell:/d%3A/python/class12/class12.ipynb#W5sZmlsZQ%3D%3D?line=3'>4</a>\u001b[0m \u001b[39mdef\u001b[39;00m \u001b[39m__init__\u001b[39m(\u001b[39mself\u001b[39m,\u001b[39mid\u001b[39m:\u001b[39mint\u001b[39m,password:passtype,balance:\u001b[39mint\u001b[39m) \u001b[39m-\u001b[39m\u001b[39m>\u001b[39m \u001b[39mNone\u001b[39;00m:\n\u001b[0;32m      <a href='vscode-notebook-cell:/d%3A/python/class12/class12.ipynb#W5sZmlsZQ%3D%3D?line=4'>5</a>\u001b[0m     \u001b[39mif\u001b[39;00m \u001b[39mid\u001b[39m \u001b[39m==\u001b[39m \u001b[39m15\u001b[39m \u001b[39mor\u001b[39;00m \u001b[39mtype\u001b[39m(password) \u001b[39mis\u001b[39;00m \u001b[39mstr\u001b[39m:\n\u001b[1;32m----> <a href='vscode-notebook-cell:/d%3A/python/class12/class12.ipynb#W5sZmlsZQ%3D%3D?line=5'>6</a>\u001b[0m         \u001b[39mraise\u001b[39;00m invalidpass(\u001b[39m\"\u001b[39m\u001b[39mid and pass is incorrect\u001b[39m\u001b[39m\"\u001b[39m)\n\u001b[0;32m      <a href='vscode-notebook-cell:/d%3A/python/class12/class12.ipynb#W5sZmlsZQ%3D%3D?line=6'>7</a>\u001b[0m     \u001b[39mself\u001b[39m\u001b[39m.\u001b[39mid \u001b[39m=\u001b[39m \u001b[39mid\u001b[39m\n\u001b[0;32m      <a href='vscode-notebook-cell:/d%3A/python/class12/class12.ipynb#W5sZmlsZQ%3D%3D?line=7'>8</a>\u001b[0m     \u001b[39mself\u001b[39m\u001b[39m.\u001b[39mpassword \u001b[39m=\u001b[39m password\n",
      "\u001b[1;31minvalidpass\u001b[0m: id and pass is incorrect"
     ]
    }
   ],
   "source": [
    "from typing import Union\n",
    "passtype = Union[int,str]\n",
    "class creditcard():\n",
    "    def __init__(self,id:int,password:passtype,balance:int) -> None:\n",
    "        if id == 15 or type(password) is str:\n",
    "\n",
    "            raise invalidpass(\"id and pass is incorrect\")\n",
    "        self.id = id\n",
    "        self.password = password\n",
    "        self.balance = balance\n",
    "newcard = creditcard(13,\"fbc\",300)\n",
    "print(f\"balance{newcard.balance}\")\n",
    "class invalidpass(Exception):\n",
    "    pass\n"
   ]
  },
  {
   "cell_type": "code",
   "execution_count": 38,
   "metadata": {},
   "outputs": [
    {
     "data": {
      "text/plain": [
       "False"
      ]
     },
     "execution_count": 38,
     "metadata": {},
     "output_type": "execute_result"
    }
   ],
   "source": [
    "password :int = 33\n",
    "type(password) is str"
   ]
  },
  {
   "cell_type": "markdown",
   "metadata": {},
   "source": [
    "# File Handling\n",
    "<img src=\"https://net-informations.com/python/file/img/modes.png\">"
   ]
  },
  {
   "cell_type": "code",
   "execution_count": 39,
   "metadata": {},
   "outputs": [
    {
     "data": {
      "text/plain": [
       "<_io.TextIOWrapper name='./abc.txt' mode='r' encoding='utf-8'>"
      ]
     },
     "execution_count": 39,
     "metadata": {},
     "output_type": "execute_result"
    }
   ],
   "source": [
    "open(\"./abc.txt\")"
   ]
  },
  {
   "cell_type": "code",
   "execution_count": 47,
   "metadata": {},
   "outputs": [
    {
     "data": {
      "text/plain": [
       "['_CHUNK_SIZE',\n",
       " '_checkClosed',\n",
       " '_checkReadable',\n",
       " '_checkSeekable',\n",
       " '_checkWritable',\n",
       " '_finalizing',\n",
       " 'buffer',\n",
       " 'close',\n",
       " 'closed',\n",
       " 'detach',\n",
       " 'encoding',\n",
       " 'errors',\n",
       " 'fileno',\n",
       " 'flush',\n",
       " 'isatty',\n",
       " 'line_buffering',\n",
       " 'mode',\n",
       " 'name',\n",
       " 'newlines',\n",
       " 'read',\n",
       " 'readable',\n",
       " 'readline',\n",
       " 'readlines',\n",
       " 'reconfigure',\n",
       " 'seek',\n",
       " 'seekable',\n",
       " 'tell',\n",
       " 'truncate',\n",
       " 'writable',\n",
       " 'write',\n",
       " 'write_through',\n",
       " 'writelines']"
      ]
     },
     "execution_count": 47,
     "metadata": {},
     "output_type": "execute_result"
    }
   ],
   "source": [
    "from typing import TextIO\n",
    "data:TextIO = open(\"./abc.txt\")\n",
    "print(data.read())\n",
    "[i for i in dir(data) if \"__\" not in i]"
   ]
  },
  {
   "cell_type": "code",
   "execution_count": 48,
   "metadata": {},
   "outputs": [
    {
     "name": "stdout",
     "output_type": "stream",
     "text": [
      "hello world\n"
     ]
    }
   ],
   "source": [
    "#here we have to close file too\n",
    "from typing import TextIO\n",
    " \n",
    "data:TextIO = open(\"./abc.txt\")\n",
    "print(data.read())\n",
    "data.close()"
   ]
  },
  {
   "cell_type": "code",
   "execution_count": 72,
   "metadata": {},
   "outputs": [
    {
     "name": "stdout",
     "output_type": "stream",
     "text": [
      "hello world\n",
      "line 1\n",
      "line 2\n",
      "line 3\n",
      "line 4 \n",
      "line 5\n",
      "no more activity we are out from the file\n"
     ]
    }
   ],
   "source": [
    "# with block no need to close a file\n",
    "with open(\"./abc.txt\") as file:\n",
    "    print(file.read())\n",
    "print(\"no more activity we are out from the file\")"
   ]
  },
  {
   "cell_type": "code",
   "execution_count": 70,
   "metadata": {},
   "outputs": [
    {
     "name": "stdout",
     "output_type": "stream",
     "text": [
      "['hello world\\n', 'line 1\\n', 'line 2\\n', 'line 3\\n', 'line 4 \\n', 'line 5']             "
     ]
    }
   ],
   "source": [
    "# read lines one by one\n",
    "with open(\"./abc.txt\") as file:\n",
    "    print(file.readlines())\n"
   ]
  },
  {
   "cell_type": "code",
   "execution_count": 59,
   "metadata": {},
   "outputs": [
    {
     "name": "stdout",
     "output_type": "stream",
     "text": [
      "['hello world\\n', 'line 2\\n'] "
     ]
    }
   ],
   "source": [
    "# read lines with slicing\n",
    "with open(\"./abc.txt\") as file:\n",
    "    print(file.readlines()[0:3:2], end=\" \")\n"
   ]
  },
  {
   "cell_type": "code",
   "execution_count": 76,
   "metadata": {},
   "outputs": [
    {
     "name": "stdout",
     "output_type": "stream",
     "text": [
      "hello world\n",
      "line 1\n",
      "line 2\n",
      "line 3\n",
      "line 4 \n",
      "line 5\n"
     ]
    },
    {
     "ename": "UnsupportedOperation",
     "evalue": "not writable",
     "output_type": "error",
     "traceback": [
      "\u001b[1;31m---------------------------------------------------------------------------\u001b[0m",
      "\u001b[1;31mUnsupportedOperation\u001b[0m                      Traceback (most recent call last)",
      "\u001b[1;32md:\\python\\class12\\class12.ipynb Cell 15\u001b[0m line \u001b[0;36m4\n\u001b[0;32m      <a href='vscode-notebook-cell:/d%3A/python/class12/class12.ipynb#X20sZmlsZQ%3D%3D?line=1'>2</a>\u001b[0m \u001b[39mwith\u001b[39;00m \u001b[39mopen\u001b[39m(\u001b[39m\"\u001b[39m\u001b[39m./abc.txt\u001b[39m\u001b[39m\"\u001b[39m, \u001b[39m'\u001b[39m\u001b[39mr\u001b[39m\u001b[39m'\u001b[39m) \u001b[39mas\u001b[39;00m file:\n\u001b[0;32m      <a href='vscode-notebook-cell:/d%3A/python/class12/class12.ipynb#X20sZmlsZQ%3D%3D?line=2'>3</a>\u001b[0m     \u001b[39mprint\u001b[39m(file\u001b[39m.\u001b[39mread())\n\u001b[1;32m----> <a href='vscode-notebook-cell:/d%3A/python/class12/class12.ipynb#X20sZmlsZQ%3D%3D?line=3'>4</a>\u001b[0m     \u001b[39mprint\u001b[39m(file\u001b[39m.\u001b[39;49mwrite(\u001b[39m\"\u001b[39;49m\u001b[39mPAIC\u001b[39;49m\u001b[39m\"\u001b[39;49m))\n",
      "\u001b[1;31mUnsupportedOperation\u001b[0m: not writable"
     ]
    }
   ],
   "source": [
    "# read only not writeable\n",
    "with open(\"./abc.txt\", 'r') as file:\n",
    "    print(file.read())\n",
    "    print(file.write(\"PAIC\"))\n"
   ]
  },
  {
   "cell_type": "code",
   "execution_count": 102,
   "metadata": {},
   "outputs": [],
   "source": [
    "# write  only and if file exist it will overide the file \n",
    "# if new name iwill create new file with w mode\n",
    "with open(\"./abc2.txt\", 'w') as file:\n",
    "   # print(file.read())\n",
    "    file.write(\"PAIC\")\n"
   ]
  },
  {
   "cell_type": "code",
   "execution_count": 80,
   "metadata": {},
   "outputs": [
    {
     "name": "stdout",
     "output_type": "stream",
     "text": [
      "PAIC\n",
      "line 1\n",
      "line 2\n",
      "line 3 \n",
      "line 3\n"
     ]
    }
   ],
   "source": [
    "# read lines with slicing\n",
    "with open(\"./abc.txt\") as file:\n",
    "    print(file.read())\n",
    "   \n"
   ]
  },
  {
   "cell_type": "code",
   "execution_count": 101,
   "metadata": {},
   "outputs": [
    {
     "name": "stdout",
     "output_type": "stream",
     "text": [
      "PakistanPAICPAICPAICabcPAICabc\n",
      "\n"
     ]
    }
   ],
   "source": [
    "# read and write\n",
    "with open(\"./abc.txt\", 'r+') as file:\n",
    "    print(file.read())\n",
    "    file.write(\"PAIC\")\n",
    "    print(file.read())\n",
    "    file.seek(0)\n"
   ]
  },
  {
   "cell_type": "code",
   "execution_count": 107,
   "metadata": {},
   "outputs": [],
   "source": [
    "# append mode\n",
    "with open(\"./abc.txt\", 'a') as file:\n",
    "    \n",
    "    file.write(\"PAIC \\n\")\n",
    "    file.write(\"PAIC1 \\n\")\n",
    "    file.write(\"2 \\n\")\n",
    "\n",
    "   \n",
    "    \n"
   ]
  },
  {
   "cell_type": "code",
   "execution_count": null,
   "metadata": {},
   "outputs": [],
   "source": [
    "# x  mode will only make new file if file dosnt exist\n",
    "with open(\"./abc.txt\", 'x') as file:\n",
    "    \n",
    "    file.write(\"PAIC \\n\")\n",
    "    file.write(\"PAIC1 \\n\")\n",
    "    file.write(\"2 \\n\")\n",
    "\n",
    "   \n",
    "    \n"
   ]
  }
 ],
 "metadata": {
  "kernelspec": {
   "display_name": "python12",
   "language": "python",
   "name": "python3"
  },
  "language_info": {
   "codemirror_mode": {
    "name": "ipython",
    "version": 3
   },
   "file_extension": ".py",
   "mimetype": "text/x-python",
   "name": "python",
   "nbconvert_exporter": "python",
   "pygments_lexer": "ipython3",
   "version": "3.12.0"
  }
 },
 "nbformat": 4,
 "nbformat_minor": 2
}
