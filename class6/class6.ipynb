{
 "cells": [
  {
   "cell_type": "markdown",
   "metadata": {},
   "source": [
    "# if-else-elif\n",
    "if logic:\n",
    "    true_blck\n",
    "else:\n",
    "    flseblck\n",
    "\n",
    "## comprehnsv if else \n",
    "\n",
    "true block if logic else false block  \n",
    "\n",
    "\n",
    "*if-else\n",
    "*if-elif-else"
   ]
  },
  {
   "cell_type": "code",
   "execution_count": 4,
   "metadata": {},
   "outputs": [
    {
     "name": "stdout",
     "output_type": "stream",
     "text": [
      "AUDI\n",
      "Bmw\n",
      "Nissan\n",
      "Gt\n"
     ]
    }
   ],
   "source": [
    "#below true block if condition block and else thats the comprehnsive if else \n",
    "cars:list[str] = [\"audi\",\"bmw\",\"nissan\",\"gt\"]\n",
    "for car in cars:\n",
    "     print(car.upper()) if car == \"audi\" else print(car.title())\n",
    "        \n",
    "    "
   ]
  },
  {
   "cell_type": "code",
   "execution_count": 7,
   "metadata": {},
   "outputs": [
    {
     "name": "stdout",
     "output_type": "stream",
     "text": [
      "if ture block\n"
     ]
    }
   ],
   "source": [
    "if True:\n",
    "    print(\"if ture block\")\n",
    "elif True:\n",
    "    print(\"ellif 1st block\")\n",
    "elif True:\n",
    "    print(\"ellif 2nd block\")\n",
    "elif True:\n",
    "    print(\"ellif 3nd block\")\n",
    "else:\n",
    "    print(\"else block\")"
   ]
  }
 ],
 "metadata": {
  "kernelspec": {
   "display_name": "python12",
   "language": "python",
   "name": "python3"
  },
  "language_info": {
   "codemirror_mode": {
    "name": "ipython",
    "version": 3
   },
   "file_extension": ".py",
   "mimetype": "text/x-python",
   "name": "python",
   "nbconvert_exporter": "python",
   "pygments_lexer": "ipython3",
   "version": "3.12.0"
  }
 },
 "nbformat": 4,
 "nbformat_minor": 2
}
