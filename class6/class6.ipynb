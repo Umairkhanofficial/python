{
 "cells": [
  {
   "cell_type": "markdown",
   "metadata": {},
   "source": [
    "# if-else-elif\n",
    "if logic:\n",
    "    true_blck\n",
    "else:\n",
    "    flseblck\n",
    "\n",
    "## comprehnsv if else \n",
    "\n",
    "true block if logic else false block  \n",
    "\n",
    "\n",
    "*if-else\n",
    "*if-elif-else"
   ]
  },
  {
   "cell_type": "code",
   "execution_count": 4,
   "metadata": {},
   "outputs": [
    {
     "name": "stdout",
     "output_type": "stream",
     "text": [
      "AUDI\n",
      "Bmw\n",
      "Nissan\n",
      "Gt\n"
     ]
    }
   ],
   "source": [
    "#below true block if condition block and else thats the comprehnsive if else \n",
    "cars:list[str] = [\"audi\",\"bmw\",\"nissan\",\"gt\"]\n",
    "for car in cars:\n",
    "     print(car.upper()) if car == \"audi\" else print(car.title())\n",
    "        \n",
    "    "
   ]
  },
  {
   "cell_type": "code",
   "execution_count": 7,
   "metadata": {},
   "outputs": [
    {
     "name": "stdout",
     "output_type": "stream",
     "text": [
      "if ture block\n"
     ]
    }
   ],
   "source": [
    "if True:\n",
    "    print(\"if ture block\")\n",
    "elif True:\n",
    "    print(\"ellif 1st block\")\n",
    "elif True:\n",
    "    print(\"ellif 2nd block\")\n",
    "elif True:\n",
    "    print(\"ellif 3nd block\")\n",
    "else:\n",
    "    print(\"else block\")"
   ]
  },
  {
   "cell_type": "code",
   "execution_count": 10,
   "metadata": {},
   "outputs": [
    {
     "name": "stdout",
     "output_type": "stream",
     "text": [
      "your percentage is 70 and your Grade is B\n"
     ]
    }
   ],
   "source": [
    "from typing import Union\n",
    "percent: Union[int,float]= int(input(\"Enter Your Percentage\"))\n",
    "grade: Union[str,None] = None\n",
    "\n",
    "if percent >= 80:\n",
    "    grade = \"A+\"\n",
    "elif percent >= 70:\n",
    "    grade =\"B\"\n",
    "elif percent >= 60:\n",
    "    grade =\"C\"\n",
    "elif percent >= 50:\n",
    "    grade =\"D\"\n",
    "elif percent >= 40:\n",
    "    grade =\"E\"\n",
    "else:\n",
    "    grade= \"Fail\"\n",
    "print(f\"your percentage is {percent} and your Grade is {grade}\")"
   ]
  },
  {
   "cell_type": "code",
   "execution_count": 14,
   "metadata": {},
   "outputs": [
    {
     "name": "stdout",
     "output_type": "stream",
     "text": [
      "[88, 99.9, 50, 51, 65, 70]\n",
      "['A+', 'A+', 'C', 'C', 'B', 'A']\n"
     ]
    },
    {
     "data": {
      "text/plain": [
       "[(1, 99.9, 'A+'),\n",
       " (0, 88, 'A+'),\n",
       " (5, 70, 'A'),\n",
       " (4, 65, 'B'),\n",
       " (3, 51, 'C'),\n",
       " (2, 50, 'C')]"
      ]
     },
     "execution_count": 14,
     "metadata": {},
     "output_type": "execute_result"
    }
   ],
   "source": [
    "from typing import Union\n",
    "PerType = Union[float, int]\n",
    "#perType = float | int\n",
    "percentages : list[PerType] = [88, 99.9, 50, 51,65,70]\n",
    "\n",
    "grades : list[str] = []\n",
    "\n",
    "for per in percentages:\n",
    "    grade : str = \"\"\n",
    "\n",
    "    if (per >= 0) and (per < 33):\n",
    "        grade = \"Fail\"\n",
    "    elif (per >= 33) and (per < 40):\n",
    "        grade = \"E\"\n",
    "    elif (per >= 40) and (per < 50):\n",
    "        grade = \"D\"\n",
    "    elif (per >= 50) and (per < 60):\n",
    "        grade = \"C\"\n",
    "    elif (per >= 60) and (per <70) :\n",
    "        grade = \"B\"\n",
    "    elif (per >= 70) and (per <80) :\n",
    "        grade = \"A\"\n",
    "    elif (per >=80) and (per <= 100):\n",
    "        grade = \"A+\"\n",
    "\n",
    "    grades.append(grade)\n",
    "\n",
    "print(percentages)\n",
    "print(grades)\n",
    "#zip method to zip same size variables values in each key pairs\n",
    "list(zip(percentages,grades))\n",
    "\n",
    "roll_no : list[int] = list(range(len(percentages)))\n",
    "#zipped rollno percntg grades\n",
    "database = list(zip(roll_no,percentages,grades))\n",
    "#  sorted all\n",
    "sorted(database ,key=lambda x:x[1], reverse=True)"
   ]
  }
 ],
 "metadata": {
  "kernelspec": {
   "display_name": "python12",
   "language": "python",
   "name": "python3"
  },
  "language_info": {
   "codemirror_mode": {
    "name": "ipython",
    "version": 3
   },
   "file_extension": ".py",
   "mimetype": "text/x-python",
   "name": "python",
   "nbconvert_exporter": "python",
   "pygments_lexer": "ipython3",
   "version": "3.12.0"
  }
 },
 "nbformat": 4,
 "nbformat_minor": 2
}
