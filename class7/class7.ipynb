{
 "cells": [
  {
   "cell_type": "markdown",
   "metadata": {},
   "source": [
    "#Dictionary\n",
    "*key:value (items)\n",
    "    *key replacmnt of index"
   ]
  },
  {
   "cell_type": "code",
   "execution_count": null,
   "metadata": {},
   "outputs": [],
   "source": [
    "data: list[str] = [\"irfan\",\"Umair\",\"BSCS\"]"
   ]
  },
  {
   "cell_type": "code",
   "execution_count": 11,
   "metadata": {},
   "outputs": [
    {
     "name": "stdout",
     "output_type": "stream",
     "text": [
      "Umair\n",
      "{'education': 'BSCS IT', 'fname': 'Umair', 'lname': 'khan'}\n"
     ]
    }
   ],
   "source": [
    "import pprint\n",
    "from typing import Dict,Union\n",
    "key = Union[int,str]\n",
    "value = Union[str,int ,tuple, list]\n",
    "\n",
    "\n",
    "data: dict[key,value] = {\"fname\":\"Umair\",\n",
    "                       \"lname\":\"khan\",\n",
    "                       \"education\":\"BSCS\"}\n",
    "print(data[\"fname\"])\n",
    "data[\"education\"] = \"BSCS IT\"\n",
    "\n",
    "pprint.pprint(data)"
   ]
  }
 ],
 "metadata": {
  "kernelspec": {
   "display_name": "python12",
   "language": "python",
   "name": "python3"
  },
  "language_info": {
   "codemirror_mode": {
    "name": "ipython",
    "version": 3
   },
   "file_extension": ".py",
   "mimetype": "text/x-python",
   "name": "python",
   "nbconvert_exporter": "python",
   "pygments_lexer": "ipython3",
   "version": "3.12.0"
  }
 },
 "nbformat": 4,
 "nbformat_minor": 2
}
