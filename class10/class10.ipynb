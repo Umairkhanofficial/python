{
 "cells": [
  {
   "cell_type": "markdown",
   "metadata": {},
   "source": [
    "# functions\n",
    "* pre-define functions\n",
    "    *provided by language\n",
    "* user defined functions\n",
    "* return and non return\n",
    "\n",
    "## functions coponnts\n",
    "* function declaration\n",
    "    * function name\n",
    "    * parameters\n",
    "        * param: type\n",
    "    * return output type\n",
    "* function body\n",
    "    * any logic\n",
    "* function calling\n",
    "    *function(arg1,arg2)# arguments \n",
    "### syntax function\n",
    "```\n",
    "def function_name(param1:type,param2:type,..) -> return type:\n",
    "    function body\n",
    "\n",
    "function_name(arg,arg2)\n",
    "```\n",
    "### syntax of lembda function\n",
    "* one line function\n",
    "* without name\n",
    "* only use in this line"
   ]
  },
  {
   "cell_type": "markdown",
   "metadata": {},
   "source": [
    "### create simple function without any argument (default function)"
   ]
  },
  {
   "cell_type": "code",
   "execution_count": 1,
   "metadata": {},
   "outputs": [
    {
     "name": "stdout",
     "output_type": "stream",
     "text": [
      "PAIC Generative\n",
      "python crash cousre\n"
     ]
    }
   ],
   "source": [
    "def piaic()->None: #declaration\n",
    "    #function body start\n",
    "    print(\"PAIC Generative\")\n",
    "    print(\"python crash cousre\")\n",
    "\n",
    "piaic()# fucntion calling"
   ]
  },
  {
   "cell_type": "code",
   "execution_count": 2,
   "metadata": {},
   "outputs": [
    {
     "data": {
      "text/plain": [
       "10"
      ]
     },
     "execution_count": 2,
     "metadata": {},
     "output_type": "execute_result"
    }
   ],
   "source": [
    "# parameterise function\n",
    "# required parameter function\n",
    "                # paramtr 1\n",
    "def sum_func(num1: int, num2: int)-> int:\n",
    "    return num1 + num2\n",
    "\n",
    "sum_func(2,8) #argumnt1 , argumnt2"
   ]
  },
  {
   "cell_type": "markdown",
   "metadata": {},
   "source": [
    "# function with optional parameters"
   ]
  },
  {
   "cell_type": "code",
   "execution_count": 4,
   "metadata": {},
   "outputs": [
    {
     "name": "stdout",
     "output_type": "stream",
     "text": [
      "5 0\n"
     ]
    },
    {
     "data": {
      "text/plain": [
       "5"
      ]
     },
     "execution_count": 4,
     "metadata": {},
     "output_type": "execute_result"
    }
   ],
   "source": [
    "def add_two_num(num:int, num2:int = 0) -> int:\n",
    "    print(num,num2)\n",
    "    return num + num2\n",
    "add_two_num(5)"
   ]
  },
  {
   "cell_type": "markdown",
   "metadata": {},
   "source": [
    "### syntax of lembda function\n",
    "* one line function\n",
    "* without name\n",
    "* only use in this line\n",
    "```\n",
    "lambda param1,param2 : function_body\n",
    "```"
   ]
  },
  {
   "cell_type": "code",
   "execution_count": 5,
   "metadata": {},
   "outputs": [
    {
     "data": {
      "text/plain": [
       "9"
      ]
     },
     "execution_count": 5,
     "metadata": {},
     "output_type": "execute_result"
    }
   ],
   "source": [
    "a = lambda num1,num2 : num1 + num2\n",
    "a(3,6)"
   ]
  },
  {
   "cell_type": "code",
   "execution_count": 10,
   "metadata": {},
   "outputs": [
    {
     "data": {
      "text/plain": [
       "[2, 4, 6, 8, 10, 12, 14]"
      ]
     },
     "execution_count": 10,
     "metadata": {},
     "output_type": "execute_result"
    }
   ],
   "source": [
    "data: list[int] = [1,2,3,4,5,6,7]\n",
    "data = list(map(lambda x:x*2 , data))\n",
    "data"
   ]
  },
  {
   "cell_type": "code",
   "execution_count": 13,
   "metadata": {},
   "outputs": [
    {
     "data": {
      "text/plain": [
       "[2, 4, 6, 8]"
      ]
     },
     "execution_count": 13,
     "metadata": {},
     "output_type": "execute_result"
    }
   ],
   "source": [
    "data: list[int] = [1,2,4,5,6,7,8 ,9]\n",
    "data = list(filter(lambda x:x % 2 == 0, data))\n",
    "data"
   ]
  },
  {
   "cell_type": "markdown",
   "metadata": {},
   "source": [
    "## Generator Function\n",
    "* iterate on element one by one\n",
    "* stop after each iteration\n",
    "* remember old iteration value\n"
   ]
  },
  {
   "cell_type": "code",
   "execution_count": 27,
   "metadata": {},
   "outputs": [
    {
     "name": "stdout",
     "output_type": "stream",
     "text": [
      "1\n",
      "2\n",
      "<class 'generator'>\n",
      "pakistan\n",
      "3\n"
     ]
    },
    {
     "data": {
      "text/plain": [
       "['__class__',\n",
       " '__del__',\n",
       " '__delattr__',\n",
       " '__dir__',\n",
       " '__doc__',\n",
       " '__eq__',\n",
       " '__format__',\n",
       " '__ge__',\n",
       " '__getattribute__',\n",
       " '__getstate__',\n",
       " '__gt__',\n",
       " '__hash__',\n",
       " '__init__',\n",
       " '__init_subclass__',\n",
       " '__iter__',\n",
       " '__le__',\n",
       " '__lt__',\n",
       " '__name__',\n",
       " '__ne__',\n",
       " '__new__',\n",
       " '__next__',\n",
       " '__qualname__',\n",
       " '__reduce__',\n",
       " '__reduce_ex__',\n",
       " '__repr__',\n",
       " '__setattr__',\n",
       " '__sizeof__',\n",
       " '__str__',\n",
       " '__subclasshook__',\n",
       " 'close',\n",
       " 'gi_code',\n",
       " 'gi_frame',\n",
       " 'gi_running',\n",
       " 'gi_suspended',\n",
       " 'gi_yieldfrom',\n",
       " 'send',\n",
       " 'throw']"
      ]
     },
     "execution_count": 27,
     "metadata": {},
     "output_type": "execute_result"
    }
   ],
   "source": [
    "from typing import Any\n",
    "from collections.abc import Iterator                #ANy too can be\n",
    "def my_genrator(start:int, end:int, step:int =1)-> Iterator[int]:\n",
    "    for i in range(start,end,step):\n",
    "        yield i\n",
    "genrator_varible: Iterator[int] = my_genrator(1,11)\n",
    "print(next(genrator_varible))\n",
    "print(next(genrator_varible))\n",
    "print(type(genrator_varible))\n",
    "print(\"pakistan\")\n",
    "print(next(genrator_varible))\n",
    "dir(genrator_varible)\n"
   ]
  },
  {
   "cell_type": "markdown",
   "metadata": {},
   "source": [
    "# pass unlimited arguments "
   ]
  },
  {
   "cell_type": "code",
   "execution_count": 29,
   "metadata": {},
   "outputs": [
    {
     "name": "stdout",
     "output_type": "stream",
     "text": [
      "1\n",
      "2\n",
      "3\n",
      "4\n",
      "5\n",
      "6\n",
      "7\n",
      "8\n"
     ]
    }
   ],
   "source": [
    "def unlimited_f(*num1:int):\n",
    "    for i in num1:\n",
    "        print(i)\n",
    "unlimited_f(1,2,3,4,5,6,7,8)"
   ]
  },
  {
   "cell_type": "markdown",
   "metadata": {},
   "source": [
    "# key word argumnt"
   ]
  },
  {
   "cell_type": "code",
   "execution_count": 30,
   "metadata": {},
   "outputs": [
    {
     "name": "stdout",
     "output_type": "stream",
     "text": [
      "num1 2 num219\n"
     ]
    },
    {
     "data": {
      "text/plain": [
       "21"
      ]
     },
     "execution_count": 30,
     "metadata": {},
     "output_type": "execute_result"
    }
   ],
   "source": [
    "# key word argumnt\n",
    "def add_two_num(num1:int,num2:int)-> int:\n",
    "    print(f\"num1 {num1} num2{num2}\")\n",
    "    return num1 + num2\n",
    "\n",
    "add_two_num(num2=19,num1=2)"
   ]
  }
 ],
 "metadata": {
  "kernelspec": {
   "display_name": "python12",
   "language": "python",
   "name": "python3"
  },
  "language_info": {
   "codemirror_mode": {
    "name": "ipython",
    "version": 3
   },
   "file_extension": ".py",
   "mimetype": "text/x-python",
   "name": "python",
   "nbconvert_exporter": "python",
   "pygments_lexer": "ipython3",
   "version": "3.12.0"
  }
 },
 "nbformat": 4,
 "nbformat_minor": 2
}
