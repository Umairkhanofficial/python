{
 "cells": [
  {
   "cell_type": "markdown",
   "metadata": {},
   "source": [
    "# Object oriented programming \n",
    "* Class\n",
    "    * methods\n",
    "      *first argumnt mus be additionl variable (self,this, or anything else)\n",
    "    * attributes\n",
    "    * class variables\n",
    "    * constructor\n",
    "        * def ```__init__(sefl, arg1, arg2)```\n",
    "## syntax of class\n",
    "```\n",
    "classs class_name():\n",
    "    pass\n",
    "```"
   ]
  },
  {
   "cell_type": "code",
   "execution_count": 14,
   "metadata": {},
   "outputs": [],
   "source": [
    "class Teacher():\n",
    "    def __init__(self,teacher_id:int, teacher_name:str,) -> None: #method and constructor\n",
    "        self.name: str = teacher_name\n",
    "        self.tid: int = teacher_id\n",
    "        self.organization = \"Piaic\"\n",
    "\n",
    "    def speak(self, words : str )-> None: #methods\n",
    "        print(f\"{self.name} is speaking{words}\")\n",
    "\n",
    "    def teaching(self,subject:str)->None: #methods\n",
    "        print(f\"{self.name} is teaching {subject}...!\")\n",
    "\n",
    "\n"
   ]
  },
  {
   "cell_type": "code",
   "execution_count": 15,
   "metadata": {},
   "outputs": [
    {
     "name": "stdout",
     "output_type": "stream",
     "text": [
      "sir Zia\n",
      "Piaic\n",
      "1\n",
      "sir Zia is teaching deep learning...!\n"
     ]
    }
   ],
   "source": [
    "obj1:Teacher = Teacher(1,\"sir Zia\")\n",
    "obj2:Teacher = Teacher(2,\"sir qasim\")\n",
    "print(obj1.name)\n",
    "print(obj1.organization)\n",
    "print(obj1.tid)\n",
    "obj1.teaching(\"deep learning\")"
   ]
  },
  {
   "cell_type": "markdown",
   "metadata": {},
   "source": [
    "# class variable\n",
    "```\n",
    "class class_name():\n",
    "    variable:type = \"\"\n",
    "* calling with classname\n",
    "* object name\n",
    "```"
   ]
  },
  {
   "cell_type": "code",
   "execution_count": 14,
   "metadata": {},
   "outputs": [
    {
     "name": "stdout",
     "output_type": "stream",
     "text": [
      "1\n",
      "1\n",
      "92300\n"
     ]
    }
   ],
   "source": [
    "class Teacher():\n",
    "    counter: int = 0\n",
    "    help_lie_num : int =92300\n",
    "\n",
    "    def __init__(self,teacher_id:int, teacher_name:str,) -> None: #method and constructor\n",
    "        self.name: str = teacher_name\n",
    "        self.tid: int = teacher_id\n",
    "        self.organization = \"Piaic\"\n",
    "        Teacher.counter += 1\n",
    "\n",
    "    def speak(self, words : str )-> None: #methods\n",
    "        print(f\"{self.name} is speaking{words}\")\n",
    "\n",
    "    def teaching(self,subject:str)->None: #methods\n",
    "        print(f\"{self.name} is teaching {subject}...!\")\n",
    "\n",
    "obj1: Teacher = Teacher(1,\"Sir Umair\")\n",
    "#obj2: Teacher = Teacher(3,\"Zia\")\n",
    "print(obj1.counter)\n",
    "print(Teacher.counter)\n",
    "print(Teacher.help_lie_num)\n"
   ]
  },
  {
   "cell_type": "markdown",
   "metadata": {},
   "source": [
    "\n",
    "Object-oriented programming (OOP) is a programming paradigm that uses objects and classes to organize and structure code. There are several key concepts in OOP. Here is a list of some of the most important OOP concepts:\n",
    "\n",
    "# Class:\n",
    " A blueprint or template for creating objects. It defines the structure and behavior of objects of a particular type.\n",
    "\n",
    "# Object: \n",
    "An instance of a class. Objects are created based on the class definition and represent real-world entities with attributes and behaviors.\n",
    "\n",
    "# Encapsulation:\n",
    " The concept of bundling data (attributes) and the methods (functions) that operate on that data into a single unit called an object. It hides the internal implementation details of an object.\n",
    "\n",
    "# Inheritance:\n",
    " The mechanism by which a class can inherit the properties and methods of another class, forming a hierarchy of classes. It promotes code reusability and establishes an \"is-a\" relationship between classes.\n",
    "\n",
    "# Polymorphism: \n",
    "The ability of different classes to be treated as instances of a common base class. Polymorphism allows you to write code that can work with objects of different classes in a consistent way. This is typically achieved through method overriding and method overloading.\n",
    "\n",
    "# Abstraction: \n",
    "The process of simplifying complex reality by modeling classes based on the essential characteristics and behaviors while ignoring unimportant details. It provides a high-level view of objects and their interactions.\n",
    "\n",
    "# Method:\n",
    " A function defined within a class that defines the behaviors or actions that objects of that class can perform.\n",
    "\n",
    "\n",
    "\n"
   ]
  },
  {
   "cell_type": "markdown",
   "metadata": {},
   "source": [
    "# inheritance\n",
    "```\n",
    "class child_class_name(Parent_class):\n",
    "    pass\n",
    "```"
   ]
  },
  {
   "cell_type": "code",
   "execution_count": 20,
   "metadata": {},
   "outputs": [
    {
     "name": "stdout",
     "output_type": "stream",
     "text": [
      "watching movie\n"
     ]
    }
   ],
   "source": [
    " # Inheritience\n",
    "class Parents():\n",
    "    def __init__(self) -> None:\n",
    "        self.eyecolor:str = \"Brown\"\n",
    "        self.hair_color:str = \"brown\"\n",
    "    def speaks(self,words:str)->None:\n",
    "        print(f\"speaking this{words}\")\n",
    "    \n",
    "    def watching(self,object:str) -> None:\n",
    "        print(f\"watching {object}\")\n",
    "\n",
    "class Child(Parents):\n",
    "    pass\n",
    "\n",
    "childobj:Child = Child()\n",
    "\n",
    "childobj.watching(\"movie\")"
   ]
  },
  {
   "cell_type": "code",
   "execution_count": 24,
   "metadata": {},
   "outputs": [
    {
     "name": "stdout",
     "output_type": "stream",
     "text": [
      "watching movie\n",
      "child method for teaching Generative Ai\n"
     ]
    }
   ],
   "source": [
    " # Inheritience\n",
    "class Parents():\n",
    "    def __init__(self) -> None:\n",
    "        self.eyecolor:str = \"Brown\"\n",
    "        self.hair_color:str = \"brown\"\n",
    "    def speaks(self,words:str)->None:\n",
    "        print(f\"speaking this{words}\")\n",
    "    \n",
    "    def watching(self,object:str) -> None:\n",
    "        print(f\"watching {object}\")\n",
    "\n",
    "class Child(Parents):\n",
    "    def teaching(self, subject: str)-> None:\n",
    "        print(f\"child method for teaching  {subject}\")\n",
    "\n",
    "childobj:Child = Child()\n",
    "\n",
    "childobj.watching(\"movie\")\n",
    "parent_obj:Parents = Parents()\n",
    "childobj.teaching(\"Generative Ai\")\n",
    "\n"
   ]
  }
 ],
 "metadata": {
  "kernelspec": {
   "display_name": "python12",
   "language": "python",
   "name": "python3"
  },
  "language_info": {
   "codemirror_mode": {
    "name": "ipython",
    "version": 3
   },
   "file_extension": ".py",
   "mimetype": "text/x-python",
   "name": "python",
   "nbconvert_exporter": "python",
   "pygments_lexer": "ipython3",
   "version": "3.12.0"
  }
 },
 "nbformat": 4,
 "nbformat_minor": 2
}
