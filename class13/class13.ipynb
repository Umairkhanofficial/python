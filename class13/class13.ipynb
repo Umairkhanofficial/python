{
 "cells": [
  {
   "cell_type": "markdown",
   "metadata": {},
   "source": [
    "# Object oriented programming \n",
    "* Class\n",
    "    * methods\n",
    "      *first argumnt mus be additionl variable (self,this, or anything else)\n",
    "    * attributes\n",
    "    * class variables\n",
    "    * constructor\n",
    "        * def ```__init__(sefl, arg1, arg2)```\n",
    "## syntax of class\n",
    "```\n",
    "classs class_name():\n",
    "    pass\n",
    "```"
   ]
  },
  {
   "cell_type": "code",
   "execution_count": 14,
   "metadata": {},
   "outputs": [],
   "source": [
    "class Teacher():\n",
    "    def __init__(self,teacher_id:int, teacher_name:str,) -> None: #method and constructor\n",
    "        self.name: str = teacher_name\n",
    "        self.tid: int = teacher_id\n",
    "        self.organization = \"Piaic\"\n",
    "\n",
    "    def speak(self, words : str )-> None: #methods\n",
    "        print(f\"{self.name} is speaking{words}\")\n",
    "\n",
    "    def teaching(self,subject:str)->None: #methods\n",
    "        print(f\"{self.name} is teaching {subject}...!\")\n",
    "\n",
    "\n"
   ]
  },
  {
   "cell_type": "code",
   "execution_count": 15,
   "metadata": {},
   "outputs": [
    {
     "name": "stdout",
     "output_type": "stream",
     "text": [
      "sir Zia\n",
      "Piaic\n",
      "1\n",
      "sir Zia is teaching deep learning...!\n"
     ]
    }
   ],
   "source": [
    "obj1:Teacher = Teacher(1,\"sir Zia\")\n",
    "obj2:Teacher = Teacher(2,\"sir qasim\")\n",
    "print(obj1.name)\n",
    "print(obj1.organization)\n",
    "print(obj1.tid)\n",
    "obj1.teaching(\"deep learning\")"
   ]
  },
  {
   "cell_type": "markdown",
   "metadata": {},
   "source": [
    "# class variable\n",
    "```\n",
    "class class_name():\n",
    "    variable:type = \"\"\n",
    "* calling with classname\n",
    "* object name\n",
    "```"
   ]
  },
  {
   "cell_type": "code",
   "execution_count": 18,
   "metadata": {},
   "outputs": [
    {
     "name": "stdout",
     "output_type": "stream",
     "text": [
      "0\n",
      "0\n"
     ]
    }
   ],
   "source": [
    "class Teacher():\n",
    "    counter: int = 0\n",
    "    help_lie_num : int = 0\n",
    "\n",
    "    def __init__(self,teacher_id:int, teacher_name:str,) -> None: #method and constructor\n",
    "        self.name: str = teacher_name\n",
    "        self.tid: int = teacher_id\n",
    "        self.organization = \"Piaic\"\n",
    "\n",
    "    def speak(self, words : str )-> None: #methods\n",
    "        print(f\"{self.name} is speaking{words}\")\n",
    "\n",
    "    def teaching(self,subject:str)->None: #methods\n",
    "        print(f\"{self.name} is teaching {subject}...!\")\n",
    "\n",
    "obj1: Teacher = Teacher(1,\"Sir Umair\")\n",
    "print(obj1.counter)\n",
    "print(Teacher.counter)\n"
   ]
  }
 ],
 "metadata": {
  "kernelspec": {
   "display_name": "python12",
   "language": "python",
   "name": "python3"
  },
  "language_info": {
   "codemirror_mode": {
    "name": "ipython",
    "version": 3
   },
   "file_extension": ".py",
   "mimetype": "text/x-python",
   "name": "python",
   "nbconvert_exporter": "python",
   "pygments_lexer": "ipython3",
   "version": "3.12.0"
  }
 },
 "nbformat": 4,
 "nbformat_minor": 2
}
