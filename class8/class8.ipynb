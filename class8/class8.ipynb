{
 "cells": [
  {
   "cell_type": "code",
   "execution_count": null,
   "metadata": {},
   "outputs": [],
   "source": [
    "[m for m in dir(data)if \"__\" not in m]"
   ]
  },
  {
   "cell_type": "code",
   "execution_count": 1,
   "metadata": {},
   "outputs": [
    {
     "data": {
      "text/plain": [
       "['clear',\n",
       " 'copy',\n",
       " 'fromkeys',\n",
       " 'get',\n",
       " 'items',\n",
       " 'keys',\n",
       " 'pop',\n",
       " 'popitem',\n",
       " 'setdefault',\n",
       " 'update',\n",
       " 'values']"
      ]
     },
     "execution_count": 1,
     "metadata": {},
     "output_type": "execute_result"
    }
   ],
   "source": [
    "import pprint\n",
    "from typing import Dict,Union\n",
    "key = Union[int,str]\n",
    "value = Union[str,int ,tuple, list]\n",
    "\n",
    "data: Dict[str,str] = {\n",
    "    \"fname\":\"umiar\",\n",
    "    \"lastname\":\"khan\",\n",
    "    \"edu\":\"bscs\"\n",
    "}\n",
    "[m for m in dir(data)if \"__\" not in m]"
   ]
  },
  {
   "cell_type": "code",
   "execution_count": 12,
   "metadata": {},
   "outputs": [
    {
     "name": "stdout",
     "output_type": "stream",
     "text": [
      "not available\n"
     ]
    }
   ],
   "source": [
    "\n",
    "from typing import Dict,Union\n",
    "key = Union[int,str]\n",
    "value = Union[str,int ,tuple, list]\n",
    "\n",
    "data: Dict[str,str] = {\n",
    "    \"fname\":\"umiar\",\n",
    "    \"lastname\":\"khan\",\n",
    "    \"edu\":\"bscs\"\n",
    "}\n",
    "#print(data[\"named\"]) #it will return a error bcz dont have that key and cause the error\n",
    "#to avoid error .get method \n",
    "\n",
    "print(data.get(\"names\",\"not available\"))\n"
   ]
  },
  {
   "cell_type": "code",
   "execution_count": 17,
   "metadata": {},
   "outputs": [
    {
     "name": "stdout",
     "output_type": "stream",
     "text": [
      "fname Muhammad Aslam\n",
      "name Muhammad Qasim\n",
      "education MSDS\n"
     ]
    }
   ],
   "source": [
    "from typing import Dict, Union, Optional\n",
    "import pprint\n",
    "\n",
    "\n",
    "Key = Union[int,str] # create custom type\n",
    "Value = Union[int, str, list, dict, tuple, set]\n",
    "\n",
    "data : Dict[Key,Value] = {\n",
    "                        \"fname\":\"Muhammad Aslam\",\n",
    "                        \"name\":\"Muhammad Qasim\",\n",
    "                        \"education\": \"MSDS\"}\n",
    "\n",
    "\n",
    "print(data.keys()) # keys\n",
    "print(data.values()) # values\n",
    "print(data.items())\n",
    "\n",
    "for k,v in data.items():\n",
    "    print(k,v)"
   ]
  },
  {
   "cell_type": "code",
   "execution_count": 26,
   "metadata": {},
   "outputs": [
    {
     "name": "stdout",
     "output_type": "stream",
     "text": [
      "25\n",
      "{'fname': 'Muhammad Aslam', 'name': 'Muhammad Qasim', 'education': 'MSDS', 'age': '25'}\n",
      "na\n",
      "{'fname': 'Muhammad Aslam', 'name': 'Muhammad Qasim', 'education': 'MSDS', 'age': '25'}\n"
     ]
    }
   ],
   "source": [
    "from typing import Dict, Union, Optional\n",
    "import pprint\n",
    "\n",
    "\n",
    "Key = Union[int,str] # create custom type\n",
    "Value = Union[int, str, list, dict, tuple, set]\n",
    "\n",
    "data : Dict[Key,Value] = {\n",
    "                        \"fname\":\"Muhammad Aslam\",\n",
    "                        \"name\":\"Muhammad Qasim\",\n",
    "                        \"education\": \"MSDS\"}\n",
    "\n",
    "\n",
    "print(data.setdefault(\"age\",\"25\")) \n",
    "print(data)\n",
    "print(data.pop(\"age\")) #popping the key that you insert\n",
    "\n",
    "print(data.popitem()) #popout nd key value pair\n",
    "print(data)# keys"
   ]
  },
  {
   "cell_type": "markdown",
   "metadata": {},
   "source": [
    "#Update method"
   ]
  },
  {
   "cell_type": "code",
   "execution_count": 27,
   "metadata": {},
   "outputs": [
    {
     "data": {
      "text/plain": [
       "{'fname': 'uk',\n",
       " 'name': 'Muhammad Qasim',\n",
       " 'education': 'MSDS',\n",
       " 'age': 27,\n",
       " 'city': 'fsd'}"
      ]
     },
     "execution_count": 27,
     "metadata": {},
     "output_type": "execute_result"
    }
   ],
   "source": [
    "from typing import Dict, Union, Optional\n",
    "import pprint\n",
    "\n",
    "\n",
    "Key = Union[int,str] # create custom type\n",
    "Value = Union[int, str, list, dict, tuple, set]\n",
    "\n",
    "data : Dict[Key,Value] = {\n",
    "                        \"fname\":\"Muhammad Aslam\",\n",
    "                        \"name\":\"Muhammad Qasim\",\n",
    "                        \"education\": \"MSDS\"}\n",
    "\n",
    "\n",
    "data1: dict[key,value] = {\"fname\":\"uk\",\n",
    "                         \"age\":27,\n",
    "                         \"city\": \"fsd\"}\n",
    "data.update(data1)\n",
    "data\n"
   ]
  },
  {
   "cell_type": "code",
   "execution_count": 29,
   "metadata": {},
   "outputs": [
    {
     "data": {
      "text/html": [
       "<div>\n",
       "<style scoped>\n",
       "    .dataframe tbody tr th:only-of-type {\n",
       "        vertical-align: middle;\n",
       "    }\n",
       "\n",
       "    .dataframe tbody tr th {\n",
       "        vertical-align: top;\n",
       "    }\n",
       "\n",
       "    .dataframe thead th {\n",
       "        text-align: right;\n",
       "    }\n",
       "</style>\n",
       "<table border=\"1\" class=\"dataframe\">\n",
       "  <thead>\n",
       "    <tr style=\"text-align: right;\">\n",
       "      <th></th>\n",
       "      <th>roll_no</th>\n",
       "      <th>Name</th>\n",
       "      <th>age</th>\n",
       "    </tr>\n",
       "  </thead>\n",
       "  <tbody>\n",
       "    <tr>\n",
       "      <th>0</th>\n",
       "      <td>1</td>\n",
       "      <td>uk</td>\n",
       "      <td>3</td>\n",
       "    </tr>\n",
       "    <tr>\n",
       "      <th>1</th>\n",
       "      <td>2</td>\n",
       "      <td>manto</td>\n",
       "      <td>3</td>\n",
       "    </tr>\n",
       "    <tr>\n",
       "      <th>2</th>\n",
       "      <td>3</td>\n",
       "      <td>kalo</td>\n",
       "      <td>3</td>\n",
       "    </tr>\n",
       "  </tbody>\n",
       "</table>\n",
       "</div>"
      ],
      "text/plain": [
       "   roll_no   Name  age\n",
       "0        1     uk    3\n",
       "1        2  manto    3\n",
       "2        3   kalo    3"
      ]
     },
     "execution_count": 29,
     "metadata": {},
     "output_type": "execute_result"
    }
   ],
   "source": [
    "import pprint\n",
    "import pandas as pd\n",
    "from typing import Any\n",
    "\n",
    "student_data: Dict[str,list[Any]] = {\"roll_no\":[1,2,3],\n",
    "                                     \"Name\":[\"uk\",\"manto\",\"kalo\"],\n",
    "                                     \"age\":[3,3,3]}\n",
    "data: pd.DataFrame= pd.DataFrame(student_data)\n",
    "data\n"
   ]
  },
  {
   "cell_type": "markdown",
   "metadata": {},
   "source": [
    "#convert to json\n"
   ]
  },
  {
   "cell_type": "code",
   "execution_count": 34,
   "metadata": {},
   "outputs": [
    {
     "name": "stdout",
     "output_type": "stream",
     "text": [
      "('{\\n'\n",
      " ' \"roll_no\": [\\n'\n",
      " '  1,\\n'\n",
      " '  2,\\n'\n",
      " '  3\\n'\n",
      " ' ],\\n'\n",
      " ' \"Name\": [\\n'\n",
      " '  \"uk\",\\n'\n",
      " '  \"UMAIR\",\\n'\n",
      " '  \"kalo\"\\n'\n",
      " ' ],\\n'\n",
      " ' \"DEGREE\": [\\n'\n",
      " '  \"BS\",\\n'\n",
      " '  \"bscs\",\\n'\n",
      " '  \"BSIT\"\\n'\n",
      " ' ]\\n'\n",
      " '}')\n",
      "<class 'str'>\n"
     ]
    }
   ],
   "source": [
    "import pandas as pd\n",
    "import json #this json\n",
    "import pprint\n",
    "from typing import Any\n",
    "\n",
    "student_data: Dict[str,list[Any]] = {\"roll_no\":[1,2,3],\n",
    "                                     \"Name\":[\"uk\",\"UMAIR\",\"kalo\"],\n",
    "                                     \"DEGREE\":[\"BS\",\"bscs\",\"BSIT\"]}\n",
    "data = json.dumps(student_data ,indent=1)\n",
    "pprint.pprint(data)\n",
    "print(type(data))\n"
   ]
  }
 ],
 "metadata": {
  "kernelspec": {
   "display_name": "python12",
   "language": "python",
   "name": "python3"
  },
  "language_info": {
   "codemirror_mode": {
    "name": "ipython",
    "version": 3
   },
   "file_extension": ".py",
   "mimetype": "text/x-python",
   "name": "python",
   "nbconvert_exporter": "python",
   "pygments_lexer": "ipython3",
   "version": "3.12.0"
  }
 },
 "nbformat": 4,
 "nbformat_minor": 2
}
